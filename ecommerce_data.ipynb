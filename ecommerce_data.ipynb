{
  "cells": [
    {
      "cell_type": "markdown",
      "metadata": {
        "id": "H9wADwK78DCz"
      },
      "source": [
        "# Proyek Analisis Data: E-Commerce Public Dataset\n",
        "- **Nama:** ALBERTUS ANTERO ARNAYUSRANDITA\n",
        "- **Email:** randitaantero@gmail.com\n",
        "- **ID Dicoding:** randiantero"
      ]
    },
    {
      "cell_type": "markdown",
      "metadata": {
        "id": "eE0raob58DC0"
      },
      "source": [
        "## Menentukan Pertanyaan Bisnis"
      ]
    },
    {
      "cell_type": "markdown",
      "metadata": {
        "id": "GmQeQ5YF8DC0"
      },
      "source": [
        "- Kota apa saja yang memiliki tingkat pembelian tertinggi?\n",
        "- Bagaimana preferensi pelanggan yang ada pada kota dengan tingkat pembelian tertinggi?\n",
        "- Bagaimana performa e-commerce dalam periode satu tahun terakhir?"
      ]
    },
    {
      "cell_type": "markdown",
      "metadata": {
        "id": "H-z4QGlO8DC1"
      },
      "source": [
        "## Import Semua Packages/Library yang Digunakan"
      ]
    },
    {
      "cell_type": "code",
      "execution_count": 34,
      "metadata": {
        "id": "FVYwaObI8DC1"
      },
      "outputs": [],
      "source": [
        "import numpy as np\n",
        "import pandas as pd\n",
        "import matplotlib.pyplot as plt\n",
        "import seaborn as sns"
      ]
    },
    {
      "cell_type": "markdown",
      "metadata": {},
      "source": [
        "Melalui kode yang dituliskan di atas, saya hendak memanggil beberapa library yang sekiranya digunakan untuk mendukung proses analisis. Library-library tersebut antara lain numpy dan pandas untuk mendukung proses pengolahan data, serta matplotlib dan seaborn untuk mendukung pembuatan visualisasi data"
      ]
    },
    {
      "cell_type": "markdown",
      "metadata": {
        "id": "h_Sh51Xy8DC1"
      },
      "source": [
        "## Data Wrangling"
      ]
    },
    {
      "cell_type": "markdown",
      "metadata": {
        "id": "sXU2GBYu8DC1"
      },
      "source": [
        "### Gathering Data"
      ]
    },
    {
      "cell_type": "code",
      "execution_count": 35,
      "metadata": {
        "colab": {
          "base_uri": "https://localhost:8080/",
          "height": 424
        },
        "id": "Mwnddq-Xcs6e",
        "outputId": "2f824ee0-3ad1-4185-e6ac-94376e94aedc"
      },
      "outputs": [
        {
          "data": {
            "text/html": [
              "<div>\n",
              "<style scoped>\n",
              "    .dataframe tbody tr th:only-of-type {\n",
              "        vertical-align: middle;\n",
              "    }\n",
              "\n",
              "    .dataframe tbody tr th {\n",
              "        vertical-align: top;\n",
              "    }\n",
              "\n",
              "    .dataframe thead th {\n",
              "        text-align: right;\n",
              "    }\n",
              "</style>\n",
              "<table border=\"1\" class=\"dataframe\">\n",
              "  <thead>\n",
              "    <tr style=\"text-align: right;\">\n",
              "      <th></th>\n",
              "      <th>customer_id</th>\n",
              "      <th>customer_unique_id</th>\n",
              "      <th>customer_zip_code_prefix</th>\n",
              "      <th>customer_city</th>\n",
              "      <th>customer_state</th>\n",
              "    </tr>\n",
              "  </thead>\n",
              "  <tbody>\n",
              "    <tr>\n",
              "      <th>0</th>\n",
              "      <td>06b8999e2fba1a1fbc88172c00ba8bc7</td>\n",
              "      <td>861eff4711a542e4b93843c6dd7febb0</td>\n",
              "      <td>14409</td>\n",
              "      <td>franca</td>\n",
              "      <td>SP</td>\n",
              "    </tr>\n",
              "    <tr>\n",
              "      <th>1</th>\n",
              "      <td>18955e83d337fd6b2def6b18a428ac77</td>\n",
              "      <td>290c77bc529b7ac935b93aa66c333dc3</td>\n",
              "      <td>9790</td>\n",
              "      <td>sao bernardo do campo</td>\n",
              "      <td>SP</td>\n",
              "    </tr>\n",
              "    <tr>\n",
              "      <th>2</th>\n",
              "      <td>4e7b3e00288586ebd08712fdd0374a03</td>\n",
              "      <td>060e732b5b29e8181a18229c7b0b2b5e</td>\n",
              "      <td>1151</td>\n",
              "      <td>sao paulo</td>\n",
              "      <td>SP</td>\n",
              "    </tr>\n",
              "    <tr>\n",
              "      <th>3</th>\n",
              "      <td>b2b6027bc5c5109e529d4dc6358b12c3</td>\n",
              "      <td>259dac757896d24d7702b9acbbff3f3c</td>\n",
              "      <td>8775</td>\n",
              "      <td>mogi das cruzes</td>\n",
              "      <td>SP</td>\n",
              "    </tr>\n",
              "    <tr>\n",
              "      <th>4</th>\n",
              "      <td>4f2d8ab171c80ec8364f7c12e35b23ad</td>\n",
              "      <td>345ecd01c38d18a9036ed96c73b8d066</td>\n",
              "      <td>13056</td>\n",
              "      <td>campinas</td>\n",
              "      <td>SP</td>\n",
              "    </tr>\n",
              "    <tr>\n",
              "      <th>...</th>\n",
              "      <td>...</td>\n",
              "      <td>...</td>\n",
              "      <td>...</td>\n",
              "      <td>...</td>\n",
              "      <td>...</td>\n",
              "    </tr>\n",
              "    <tr>\n",
              "      <th>99436</th>\n",
              "      <td>17ddf5dd5d51696bb3d7c6291687be6f</td>\n",
              "      <td>1a29b476fee25c95fbafc67c5ac95cf8</td>\n",
              "      <td>3937</td>\n",
              "      <td>sao paulo</td>\n",
              "      <td>SP</td>\n",
              "    </tr>\n",
              "    <tr>\n",
              "      <th>99437</th>\n",
              "      <td>e7b71a9017aa05c9a7fd292d714858e8</td>\n",
              "      <td>d52a67c98be1cf6a5c84435bd38d095d</td>\n",
              "      <td>6764</td>\n",
              "      <td>taboao da serra</td>\n",
              "      <td>SP</td>\n",
              "    </tr>\n",
              "    <tr>\n",
              "      <th>99438</th>\n",
              "      <td>5e28dfe12db7fb50a4b2f691faecea5e</td>\n",
              "      <td>e9f50caf99f032f0bf3c55141f019d99</td>\n",
              "      <td>60115</td>\n",
              "      <td>fortaleza</td>\n",
              "      <td>CE</td>\n",
              "    </tr>\n",
              "    <tr>\n",
              "      <th>99439</th>\n",
              "      <td>56b18e2166679b8a959d72dd06da27f9</td>\n",
              "      <td>73c2643a0a458b49f58cea58833b192e</td>\n",
              "      <td>92120</td>\n",
              "      <td>canoas</td>\n",
              "      <td>RS</td>\n",
              "    </tr>\n",
              "    <tr>\n",
              "      <th>99440</th>\n",
              "      <td>274fa6071e5e17fe303b9748641082c8</td>\n",
              "      <td>84732c5050c01db9b23e19ba39899398</td>\n",
              "      <td>6703</td>\n",
              "      <td>cotia</td>\n",
              "      <td>SP</td>\n",
              "    </tr>\n",
              "  </tbody>\n",
              "</table>\n",
              "<p>99441 rows × 5 columns</p>\n",
              "</div>"
            ],
            "text/plain": [
              "                            customer_id                customer_unique_id  \\\n",
              "0      06b8999e2fba1a1fbc88172c00ba8bc7  861eff4711a542e4b93843c6dd7febb0   \n",
              "1      18955e83d337fd6b2def6b18a428ac77  290c77bc529b7ac935b93aa66c333dc3   \n",
              "2      4e7b3e00288586ebd08712fdd0374a03  060e732b5b29e8181a18229c7b0b2b5e   \n",
              "3      b2b6027bc5c5109e529d4dc6358b12c3  259dac757896d24d7702b9acbbff3f3c   \n",
              "4      4f2d8ab171c80ec8364f7c12e35b23ad  345ecd01c38d18a9036ed96c73b8d066   \n",
              "...                                 ...                               ...   \n",
              "99436  17ddf5dd5d51696bb3d7c6291687be6f  1a29b476fee25c95fbafc67c5ac95cf8   \n",
              "99437  e7b71a9017aa05c9a7fd292d714858e8  d52a67c98be1cf6a5c84435bd38d095d   \n",
              "99438  5e28dfe12db7fb50a4b2f691faecea5e  e9f50caf99f032f0bf3c55141f019d99   \n",
              "99439  56b18e2166679b8a959d72dd06da27f9  73c2643a0a458b49f58cea58833b192e   \n",
              "99440  274fa6071e5e17fe303b9748641082c8  84732c5050c01db9b23e19ba39899398   \n",
              "\n",
              "       customer_zip_code_prefix          customer_city customer_state  \n",
              "0                         14409                 franca             SP  \n",
              "1                          9790  sao bernardo do campo             SP  \n",
              "2                          1151              sao paulo             SP  \n",
              "3                          8775        mogi das cruzes             SP  \n",
              "4                         13056               campinas             SP  \n",
              "...                         ...                    ...            ...  \n",
              "99436                      3937              sao paulo             SP  \n",
              "99437                      6764        taboao da serra             SP  \n",
              "99438                     60115              fortaleza             CE  \n",
              "99439                     92120                 canoas             RS  \n",
              "99440                      6703                  cotia             SP  \n",
              "\n",
              "[99441 rows x 5 columns]"
            ]
          },
          "execution_count": 35,
          "metadata": {},
          "output_type": "execute_result"
        }
      ],
      "source": [
        "customers = pd.read_csv(\"D:\\Bangkit\\Dashboard\\Source Dataset\\customers_dataset.csv\")\n",
        "customers"
      ]
    },
    {
      "cell_type": "markdown",
      "metadata": {},
      "source": [
        "Kode tersebut berisi perintah untuk memanggil file csv dengan nama customers_dataset.csv. File tersebut akan tersimpan dalam variable bernama customers."
      ]
    },
    {
      "cell_type": "code",
      "execution_count": 36,
      "metadata": {
        "colab": {
          "base_uri": "https://localhost:8080/",
          "height": 424
        },
        "id": "VV-5g1Vhfb-K",
        "outputId": "2758e2bc-1309-419b-e668-0a2de1a7a10a"
      },
      "outputs": [
        {
          "data": {
            "text/html": [
              "<div>\n",
              "<style scoped>\n",
              "    .dataframe tbody tr th:only-of-type {\n",
              "        vertical-align: middle;\n",
              "    }\n",
              "\n",
              "    .dataframe tbody tr th {\n",
              "        vertical-align: top;\n",
              "    }\n",
              "\n",
              "    .dataframe thead th {\n",
              "        text-align: right;\n",
              "    }\n",
              "</style>\n",
              "<table border=\"1\" class=\"dataframe\">\n",
              "  <thead>\n",
              "    <tr style=\"text-align: right;\">\n",
              "      <th></th>\n",
              "      <th>order_id</th>\n",
              "      <th>order_item_id</th>\n",
              "      <th>product_id</th>\n",
              "      <th>seller_id</th>\n",
              "      <th>shipping_limit_date</th>\n",
              "      <th>price</th>\n",
              "      <th>freight_value</th>\n",
              "    </tr>\n",
              "  </thead>\n",
              "  <tbody>\n",
              "    <tr>\n",
              "      <th>0</th>\n",
              "      <td>00010242fe8c5a6d1ba2dd792cb16214</td>\n",
              "      <td>1</td>\n",
              "      <td>4244733e06e7ecb4970a6e2683c13e61</td>\n",
              "      <td>48436dade18ac8b2bce089ec2a041202</td>\n",
              "      <td>2017-09-19 09:45:35</td>\n",
              "      <td>58.90</td>\n",
              "      <td>13.29</td>\n",
              "    </tr>\n",
              "    <tr>\n",
              "      <th>1</th>\n",
              "      <td>00018f77f2f0320c557190d7a144bdd3</td>\n",
              "      <td>1</td>\n",
              "      <td>e5f2d52b802189ee658865ca93d83a8f</td>\n",
              "      <td>dd7ddc04e1b6c2c614352b383efe2d36</td>\n",
              "      <td>2017-05-03 11:05:13</td>\n",
              "      <td>239.90</td>\n",
              "      <td>19.93</td>\n",
              "    </tr>\n",
              "    <tr>\n",
              "      <th>2</th>\n",
              "      <td>000229ec398224ef6ca0657da4fc703e</td>\n",
              "      <td>1</td>\n",
              "      <td>c777355d18b72b67abbeef9df44fd0fd</td>\n",
              "      <td>5b51032eddd242adc84c38acab88f23d</td>\n",
              "      <td>2018-01-18 14:48:30</td>\n",
              "      <td>199.00</td>\n",
              "      <td>17.87</td>\n",
              "    </tr>\n",
              "    <tr>\n",
              "      <th>3</th>\n",
              "      <td>00024acbcdf0a6daa1e931b038114c75</td>\n",
              "      <td>1</td>\n",
              "      <td>7634da152a4610f1595efa32f14722fc</td>\n",
              "      <td>9d7a1d34a5052409006425275ba1c2b4</td>\n",
              "      <td>2018-08-15 10:10:18</td>\n",
              "      <td>12.99</td>\n",
              "      <td>12.79</td>\n",
              "    </tr>\n",
              "    <tr>\n",
              "      <th>4</th>\n",
              "      <td>00042b26cf59d7ce69dfabb4e55b4fd9</td>\n",
              "      <td>1</td>\n",
              "      <td>ac6c3623068f30de03045865e4e10089</td>\n",
              "      <td>df560393f3a51e74553ab94004ba5c87</td>\n",
              "      <td>2017-02-13 13:57:51</td>\n",
              "      <td>199.90</td>\n",
              "      <td>18.14</td>\n",
              "    </tr>\n",
              "    <tr>\n",
              "      <th>...</th>\n",
              "      <td>...</td>\n",
              "      <td>...</td>\n",
              "      <td>...</td>\n",
              "      <td>...</td>\n",
              "      <td>...</td>\n",
              "      <td>...</td>\n",
              "      <td>...</td>\n",
              "    </tr>\n",
              "    <tr>\n",
              "      <th>112645</th>\n",
              "      <td>fffc94f6ce00a00581880bf54a75a037</td>\n",
              "      <td>1</td>\n",
              "      <td>4aa6014eceb682077f9dc4bffebc05b0</td>\n",
              "      <td>b8bc237ba3788b23da09c0f1f3a3288c</td>\n",
              "      <td>2018-05-02 04:11:01</td>\n",
              "      <td>299.99</td>\n",
              "      <td>43.41</td>\n",
              "    </tr>\n",
              "    <tr>\n",
              "      <th>112646</th>\n",
              "      <td>fffcd46ef2263f404302a634eb57f7eb</td>\n",
              "      <td>1</td>\n",
              "      <td>32e07fd915822b0765e448c4dd74c828</td>\n",
              "      <td>f3c38ab652836d21de61fb8314b69182</td>\n",
              "      <td>2018-07-20 04:31:48</td>\n",
              "      <td>350.00</td>\n",
              "      <td>36.53</td>\n",
              "    </tr>\n",
              "    <tr>\n",
              "      <th>112647</th>\n",
              "      <td>fffce4705a9662cd70adb13d4a31832d</td>\n",
              "      <td>1</td>\n",
              "      <td>72a30483855e2eafc67aee5dc2560482</td>\n",
              "      <td>c3cfdc648177fdbbbb35635a37472c53</td>\n",
              "      <td>2017-10-30 17:14:25</td>\n",
              "      <td>99.90</td>\n",
              "      <td>16.95</td>\n",
              "    </tr>\n",
              "    <tr>\n",
              "      <th>112648</th>\n",
              "      <td>fffe18544ffabc95dfada21779c9644f</td>\n",
              "      <td>1</td>\n",
              "      <td>9c422a519119dcad7575db5af1ba540e</td>\n",
              "      <td>2b3e4a2a3ea8e01938cabda2a3e5cc79</td>\n",
              "      <td>2017-08-21 00:04:32</td>\n",
              "      <td>55.99</td>\n",
              "      <td>8.72</td>\n",
              "    </tr>\n",
              "    <tr>\n",
              "      <th>112649</th>\n",
              "      <td>fffe41c64501cc87c801fd61db3f6244</td>\n",
              "      <td>1</td>\n",
              "      <td>350688d9dc1e75ff97be326363655e01</td>\n",
              "      <td>f7ccf836d21b2fb1de37564105216cc1</td>\n",
              "      <td>2018-06-12 17:10:13</td>\n",
              "      <td>43.00</td>\n",
              "      <td>12.79</td>\n",
              "    </tr>\n",
              "  </tbody>\n",
              "</table>\n",
              "<p>112650 rows × 7 columns</p>\n",
              "</div>"
            ],
            "text/plain": [
              "                                order_id  order_item_id  \\\n",
              "0       00010242fe8c5a6d1ba2dd792cb16214              1   \n",
              "1       00018f77f2f0320c557190d7a144bdd3              1   \n",
              "2       000229ec398224ef6ca0657da4fc703e              1   \n",
              "3       00024acbcdf0a6daa1e931b038114c75              1   \n",
              "4       00042b26cf59d7ce69dfabb4e55b4fd9              1   \n",
              "...                                  ...            ...   \n",
              "112645  fffc94f6ce00a00581880bf54a75a037              1   \n",
              "112646  fffcd46ef2263f404302a634eb57f7eb              1   \n",
              "112647  fffce4705a9662cd70adb13d4a31832d              1   \n",
              "112648  fffe18544ffabc95dfada21779c9644f              1   \n",
              "112649  fffe41c64501cc87c801fd61db3f6244              1   \n",
              "\n",
              "                              product_id                         seller_id  \\\n",
              "0       4244733e06e7ecb4970a6e2683c13e61  48436dade18ac8b2bce089ec2a041202   \n",
              "1       e5f2d52b802189ee658865ca93d83a8f  dd7ddc04e1b6c2c614352b383efe2d36   \n",
              "2       c777355d18b72b67abbeef9df44fd0fd  5b51032eddd242adc84c38acab88f23d   \n",
              "3       7634da152a4610f1595efa32f14722fc  9d7a1d34a5052409006425275ba1c2b4   \n",
              "4       ac6c3623068f30de03045865e4e10089  df560393f3a51e74553ab94004ba5c87   \n",
              "...                                  ...                               ...   \n",
              "112645  4aa6014eceb682077f9dc4bffebc05b0  b8bc237ba3788b23da09c0f1f3a3288c   \n",
              "112646  32e07fd915822b0765e448c4dd74c828  f3c38ab652836d21de61fb8314b69182   \n",
              "112647  72a30483855e2eafc67aee5dc2560482  c3cfdc648177fdbbbb35635a37472c53   \n",
              "112648  9c422a519119dcad7575db5af1ba540e  2b3e4a2a3ea8e01938cabda2a3e5cc79   \n",
              "112649  350688d9dc1e75ff97be326363655e01  f7ccf836d21b2fb1de37564105216cc1   \n",
              "\n",
              "        shipping_limit_date   price  freight_value  \n",
              "0       2017-09-19 09:45:35   58.90          13.29  \n",
              "1       2017-05-03 11:05:13  239.90          19.93  \n",
              "2       2018-01-18 14:48:30  199.00          17.87  \n",
              "3       2018-08-15 10:10:18   12.99          12.79  \n",
              "4       2017-02-13 13:57:51  199.90          18.14  \n",
              "...                     ...     ...            ...  \n",
              "112645  2018-05-02 04:11:01  299.99          43.41  \n",
              "112646  2018-07-20 04:31:48  350.00          36.53  \n",
              "112647  2017-10-30 17:14:25   99.90          16.95  \n",
              "112648  2017-08-21 00:04:32   55.99           8.72  \n",
              "112649  2018-06-12 17:10:13   43.00          12.79  \n",
              "\n",
              "[112650 rows x 7 columns]"
            ]
          },
          "execution_count": 36,
          "metadata": {},
          "output_type": "execute_result"
        }
      ],
      "source": [
        "order_items = pd.read_csv(\"D:\\Bangkit\\Dashboard\\Source Dataset\\order_items_dataset.csv\")\n",
        "order_items"
      ]
    },
    {
      "cell_type": "markdown",
      "metadata": {},
      "source": [
        "Kode tersebut berisi perintah untuk memanggil file csv dengan nama order_items_dataset.csv. File tersebut akan tersimpan dalam variable bernama order_items."
      ]
    },
    {
      "cell_type": "code",
      "execution_count": 37,
      "metadata": {
        "colab": {
          "base_uri": "https://localhost:8080/",
          "height": 424
        },
        "id": "ZVJGwYwUfgkr",
        "outputId": "73e69a17-a3e6-49ec-bbca-953761a1ee4a"
      },
      "outputs": [
        {
          "data": {
            "text/html": [
              "<div>\n",
              "<style scoped>\n",
              "    .dataframe tbody tr th:only-of-type {\n",
              "        vertical-align: middle;\n",
              "    }\n",
              "\n",
              "    .dataframe tbody tr th {\n",
              "        vertical-align: top;\n",
              "    }\n",
              "\n",
              "    .dataframe thead th {\n",
              "        text-align: right;\n",
              "    }\n",
              "</style>\n",
              "<table border=\"1\" class=\"dataframe\">\n",
              "  <thead>\n",
              "    <tr style=\"text-align: right;\">\n",
              "      <th></th>\n",
              "      <th>order_id</th>\n",
              "      <th>payment_sequential</th>\n",
              "      <th>payment_type</th>\n",
              "      <th>payment_installments</th>\n",
              "      <th>payment_value</th>\n",
              "    </tr>\n",
              "  </thead>\n",
              "  <tbody>\n",
              "    <tr>\n",
              "      <th>0</th>\n",
              "      <td>b81ef226f3fe1789b1e8b2acac839d17</td>\n",
              "      <td>1</td>\n",
              "      <td>credit_card</td>\n",
              "      <td>8</td>\n",
              "      <td>99.33</td>\n",
              "    </tr>\n",
              "    <tr>\n",
              "      <th>1</th>\n",
              "      <td>a9810da82917af2d9aefd1278f1dcfa0</td>\n",
              "      <td>1</td>\n",
              "      <td>credit_card</td>\n",
              "      <td>1</td>\n",
              "      <td>24.39</td>\n",
              "    </tr>\n",
              "    <tr>\n",
              "      <th>2</th>\n",
              "      <td>25e8ea4e93396b6fa0d3dd708e76c1bd</td>\n",
              "      <td>1</td>\n",
              "      <td>credit_card</td>\n",
              "      <td>1</td>\n",
              "      <td>65.71</td>\n",
              "    </tr>\n",
              "    <tr>\n",
              "      <th>3</th>\n",
              "      <td>ba78997921bbcdc1373bb41e913ab953</td>\n",
              "      <td>1</td>\n",
              "      <td>credit_card</td>\n",
              "      <td>8</td>\n",
              "      <td>107.78</td>\n",
              "    </tr>\n",
              "    <tr>\n",
              "      <th>4</th>\n",
              "      <td>42fdf880ba16b47b59251dd489d4441a</td>\n",
              "      <td>1</td>\n",
              "      <td>credit_card</td>\n",
              "      <td>2</td>\n",
              "      <td>128.45</td>\n",
              "    </tr>\n",
              "    <tr>\n",
              "      <th>...</th>\n",
              "      <td>...</td>\n",
              "      <td>...</td>\n",
              "      <td>...</td>\n",
              "      <td>...</td>\n",
              "      <td>...</td>\n",
              "    </tr>\n",
              "    <tr>\n",
              "      <th>103881</th>\n",
              "      <td>0406037ad97740d563a178ecc7a2075c</td>\n",
              "      <td>1</td>\n",
              "      <td>boleto</td>\n",
              "      <td>1</td>\n",
              "      <td>363.31</td>\n",
              "    </tr>\n",
              "    <tr>\n",
              "      <th>103882</th>\n",
              "      <td>7b905861d7c825891d6347454ea7863f</td>\n",
              "      <td>1</td>\n",
              "      <td>credit_card</td>\n",
              "      <td>2</td>\n",
              "      <td>96.80</td>\n",
              "    </tr>\n",
              "    <tr>\n",
              "      <th>103883</th>\n",
              "      <td>32609bbb3dd69b3c066a6860554a77bf</td>\n",
              "      <td>1</td>\n",
              "      <td>credit_card</td>\n",
              "      <td>1</td>\n",
              "      <td>47.77</td>\n",
              "    </tr>\n",
              "    <tr>\n",
              "      <th>103884</th>\n",
              "      <td>b8b61059626efa996a60be9bb9320e10</td>\n",
              "      <td>1</td>\n",
              "      <td>credit_card</td>\n",
              "      <td>5</td>\n",
              "      <td>369.54</td>\n",
              "    </tr>\n",
              "    <tr>\n",
              "      <th>103885</th>\n",
              "      <td>28bbae6599b09d39ca406b747b6632b1</td>\n",
              "      <td>1</td>\n",
              "      <td>boleto</td>\n",
              "      <td>1</td>\n",
              "      <td>191.58</td>\n",
              "    </tr>\n",
              "  </tbody>\n",
              "</table>\n",
              "<p>103886 rows × 5 columns</p>\n",
              "</div>"
            ],
            "text/plain": [
              "                                order_id  payment_sequential payment_type  \\\n",
              "0       b81ef226f3fe1789b1e8b2acac839d17                   1  credit_card   \n",
              "1       a9810da82917af2d9aefd1278f1dcfa0                   1  credit_card   \n",
              "2       25e8ea4e93396b6fa0d3dd708e76c1bd                   1  credit_card   \n",
              "3       ba78997921bbcdc1373bb41e913ab953                   1  credit_card   \n",
              "4       42fdf880ba16b47b59251dd489d4441a                   1  credit_card   \n",
              "...                                  ...                 ...          ...   \n",
              "103881  0406037ad97740d563a178ecc7a2075c                   1       boleto   \n",
              "103882  7b905861d7c825891d6347454ea7863f                   1  credit_card   \n",
              "103883  32609bbb3dd69b3c066a6860554a77bf                   1  credit_card   \n",
              "103884  b8b61059626efa996a60be9bb9320e10                   1  credit_card   \n",
              "103885  28bbae6599b09d39ca406b747b6632b1                   1       boleto   \n",
              "\n",
              "        payment_installments  payment_value  \n",
              "0                          8          99.33  \n",
              "1                          1          24.39  \n",
              "2                          1          65.71  \n",
              "3                          8         107.78  \n",
              "4                          2         128.45  \n",
              "...                      ...            ...  \n",
              "103881                     1         363.31  \n",
              "103882                     2          96.80  \n",
              "103883                     1          47.77  \n",
              "103884                     5         369.54  \n",
              "103885                     1         191.58  \n",
              "\n",
              "[103886 rows x 5 columns]"
            ]
          },
          "execution_count": 37,
          "metadata": {},
          "output_type": "execute_result"
        }
      ],
      "source": [
        "order_payments = pd.read_csv(\"D:\\Bangkit\\Dashboard\\Source Dataset\\order_payments_dataset.csv\")\n",
        "order_payments"
      ]
    },
    {
      "cell_type": "markdown",
      "metadata": {},
      "source": [
        "Kode tersebut berisi perintah untuk memanggil file csv dengan nama order_payments_dataset.csv. File tersebut akan tersimpan dalam variable bernama order_payment."
      ]
    },
    {
      "cell_type": "code",
      "execution_count": 38,
      "metadata": {
        "colab": {
          "base_uri": "https://localhost:8080/",
          "height": 444
        },
        "id": "fDpbEjgzgKoa",
        "outputId": "614601e9-2260-41e1-811a-1501f7b84aa6"
      },
      "outputs": [
        {
          "data": {
            "text/html": [
              "<div>\n",
              "<style scoped>\n",
              "    .dataframe tbody tr th:only-of-type {\n",
              "        vertical-align: middle;\n",
              "    }\n",
              "\n",
              "    .dataframe tbody tr th {\n",
              "        vertical-align: top;\n",
              "    }\n",
              "\n",
              "    .dataframe thead th {\n",
              "        text-align: right;\n",
              "    }\n",
              "</style>\n",
              "<table border=\"1\" class=\"dataframe\">\n",
              "  <thead>\n",
              "    <tr style=\"text-align: right;\">\n",
              "      <th></th>\n",
              "      <th>order_id</th>\n",
              "      <th>customer_id</th>\n",
              "      <th>order_status</th>\n",
              "      <th>order_purchase_timestamp</th>\n",
              "      <th>order_approved_at</th>\n",
              "      <th>order_delivered_carrier_date</th>\n",
              "      <th>order_delivered_customer_date</th>\n",
              "      <th>order_estimated_delivery_date</th>\n",
              "    </tr>\n",
              "  </thead>\n",
              "  <tbody>\n",
              "    <tr>\n",
              "      <th>0</th>\n",
              "      <td>e481f51cbdc54678b7cc49136f2d6af7</td>\n",
              "      <td>9ef432eb6251297304e76186b10a928d</td>\n",
              "      <td>delivered</td>\n",
              "      <td>2017-10-02 10:56:33</td>\n",
              "      <td>2017-10-02 11:07:15</td>\n",
              "      <td>2017-10-04 19:55:00</td>\n",
              "      <td>2017-10-10 21:25:13</td>\n",
              "      <td>2017-10-18 00:00:00</td>\n",
              "    </tr>\n",
              "    <tr>\n",
              "      <th>1</th>\n",
              "      <td>53cdb2fc8bc7dce0b6741e2150273451</td>\n",
              "      <td>b0830fb4747a6c6d20dea0b8c802d7ef</td>\n",
              "      <td>delivered</td>\n",
              "      <td>2018-07-24 20:41:37</td>\n",
              "      <td>2018-07-26 03:24:27</td>\n",
              "      <td>2018-07-26 14:31:00</td>\n",
              "      <td>2018-08-07 15:27:45</td>\n",
              "      <td>2018-08-13 00:00:00</td>\n",
              "    </tr>\n",
              "    <tr>\n",
              "      <th>2</th>\n",
              "      <td>47770eb9100c2d0c44946d9cf07ec65d</td>\n",
              "      <td>41ce2a54c0b03bf3443c3d931a367089</td>\n",
              "      <td>delivered</td>\n",
              "      <td>2018-08-08 08:38:49</td>\n",
              "      <td>2018-08-08 08:55:23</td>\n",
              "      <td>2018-08-08 13:50:00</td>\n",
              "      <td>2018-08-17 18:06:29</td>\n",
              "      <td>2018-09-04 00:00:00</td>\n",
              "    </tr>\n",
              "    <tr>\n",
              "      <th>3</th>\n",
              "      <td>949d5b44dbf5de918fe9c16f97b45f8a</td>\n",
              "      <td>f88197465ea7920adcdbec7375364d82</td>\n",
              "      <td>delivered</td>\n",
              "      <td>2017-11-18 19:28:06</td>\n",
              "      <td>2017-11-18 19:45:59</td>\n",
              "      <td>2017-11-22 13:39:59</td>\n",
              "      <td>2017-12-02 00:28:42</td>\n",
              "      <td>2017-12-15 00:00:00</td>\n",
              "    </tr>\n",
              "    <tr>\n",
              "      <th>4</th>\n",
              "      <td>ad21c59c0840e6cb83a9ceb5573f8159</td>\n",
              "      <td>8ab97904e6daea8866dbdbc4fb7aad2c</td>\n",
              "      <td>delivered</td>\n",
              "      <td>2018-02-13 21:18:39</td>\n",
              "      <td>2018-02-13 22:20:29</td>\n",
              "      <td>2018-02-14 19:46:34</td>\n",
              "      <td>2018-02-16 18:17:02</td>\n",
              "      <td>2018-02-26 00:00:00</td>\n",
              "    </tr>\n",
              "    <tr>\n",
              "      <th>...</th>\n",
              "      <td>...</td>\n",
              "      <td>...</td>\n",
              "      <td>...</td>\n",
              "      <td>...</td>\n",
              "      <td>...</td>\n",
              "      <td>...</td>\n",
              "      <td>...</td>\n",
              "      <td>...</td>\n",
              "    </tr>\n",
              "    <tr>\n",
              "      <th>99436</th>\n",
              "      <td>9c5dedf39a927c1b2549525ed64a053c</td>\n",
              "      <td>39bd1228ee8140590ac3aca26f2dfe00</td>\n",
              "      <td>delivered</td>\n",
              "      <td>2017-03-09 09:54:05</td>\n",
              "      <td>2017-03-09 09:54:05</td>\n",
              "      <td>2017-03-10 11:18:03</td>\n",
              "      <td>2017-03-17 15:08:01</td>\n",
              "      <td>2017-03-28 00:00:00</td>\n",
              "    </tr>\n",
              "    <tr>\n",
              "      <th>99437</th>\n",
              "      <td>63943bddc261676b46f01ca7ac2f7bd8</td>\n",
              "      <td>1fca14ff2861355f6e5f14306ff977a7</td>\n",
              "      <td>delivered</td>\n",
              "      <td>2018-02-06 12:58:58</td>\n",
              "      <td>2018-02-06 13:10:37</td>\n",
              "      <td>2018-02-07 23:22:42</td>\n",
              "      <td>2018-02-28 17:37:56</td>\n",
              "      <td>2018-03-02 00:00:00</td>\n",
              "    </tr>\n",
              "    <tr>\n",
              "      <th>99438</th>\n",
              "      <td>83c1379a015df1e13d02aae0204711ab</td>\n",
              "      <td>1aa71eb042121263aafbe80c1b562c9c</td>\n",
              "      <td>delivered</td>\n",
              "      <td>2017-08-27 14:46:43</td>\n",
              "      <td>2017-08-27 15:04:16</td>\n",
              "      <td>2017-08-28 20:52:26</td>\n",
              "      <td>2017-09-21 11:24:17</td>\n",
              "      <td>2017-09-27 00:00:00</td>\n",
              "    </tr>\n",
              "    <tr>\n",
              "      <th>99439</th>\n",
              "      <td>11c177c8e97725db2631073c19f07b62</td>\n",
              "      <td>b331b74b18dc79bcdf6532d51e1637c1</td>\n",
              "      <td>delivered</td>\n",
              "      <td>2018-01-08 21:28:27</td>\n",
              "      <td>2018-01-08 21:36:21</td>\n",
              "      <td>2018-01-12 15:35:03</td>\n",
              "      <td>2018-01-25 23:32:54</td>\n",
              "      <td>2018-02-15 00:00:00</td>\n",
              "    </tr>\n",
              "    <tr>\n",
              "      <th>99440</th>\n",
              "      <td>66dea50a8b16d9b4dee7af250b4be1a5</td>\n",
              "      <td>edb027a75a1449115f6b43211ae02a24</td>\n",
              "      <td>delivered</td>\n",
              "      <td>2018-03-08 20:57:30</td>\n",
              "      <td>2018-03-09 11:20:28</td>\n",
              "      <td>2018-03-09 22:11:59</td>\n",
              "      <td>2018-03-16 13:08:30</td>\n",
              "      <td>2018-04-03 00:00:00</td>\n",
              "    </tr>\n",
              "  </tbody>\n",
              "</table>\n",
              "<p>99441 rows × 8 columns</p>\n",
              "</div>"
            ],
            "text/plain": [
              "                               order_id                       customer_id  \\\n",
              "0      e481f51cbdc54678b7cc49136f2d6af7  9ef432eb6251297304e76186b10a928d   \n",
              "1      53cdb2fc8bc7dce0b6741e2150273451  b0830fb4747a6c6d20dea0b8c802d7ef   \n",
              "2      47770eb9100c2d0c44946d9cf07ec65d  41ce2a54c0b03bf3443c3d931a367089   \n",
              "3      949d5b44dbf5de918fe9c16f97b45f8a  f88197465ea7920adcdbec7375364d82   \n",
              "4      ad21c59c0840e6cb83a9ceb5573f8159  8ab97904e6daea8866dbdbc4fb7aad2c   \n",
              "...                                 ...                               ...   \n",
              "99436  9c5dedf39a927c1b2549525ed64a053c  39bd1228ee8140590ac3aca26f2dfe00   \n",
              "99437  63943bddc261676b46f01ca7ac2f7bd8  1fca14ff2861355f6e5f14306ff977a7   \n",
              "99438  83c1379a015df1e13d02aae0204711ab  1aa71eb042121263aafbe80c1b562c9c   \n",
              "99439  11c177c8e97725db2631073c19f07b62  b331b74b18dc79bcdf6532d51e1637c1   \n",
              "99440  66dea50a8b16d9b4dee7af250b4be1a5  edb027a75a1449115f6b43211ae02a24   \n",
              "\n",
              "      order_status order_purchase_timestamp    order_approved_at  \\\n",
              "0        delivered      2017-10-02 10:56:33  2017-10-02 11:07:15   \n",
              "1        delivered      2018-07-24 20:41:37  2018-07-26 03:24:27   \n",
              "2        delivered      2018-08-08 08:38:49  2018-08-08 08:55:23   \n",
              "3        delivered      2017-11-18 19:28:06  2017-11-18 19:45:59   \n",
              "4        delivered      2018-02-13 21:18:39  2018-02-13 22:20:29   \n",
              "...            ...                      ...                  ...   \n",
              "99436    delivered      2017-03-09 09:54:05  2017-03-09 09:54:05   \n",
              "99437    delivered      2018-02-06 12:58:58  2018-02-06 13:10:37   \n",
              "99438    delivered      2017-08-27 14:46:43  2017-08-27 15:04:16   \n",
              "99439    delivered      2018-01-08 21:28:27  2018-01-08 21:36:21   \n",
              "99440    delivered      2018-03-08 20:57:30  2018-03-09 11:20:28   \n",
              "\n",
              "      order_delivered_carrier_date order_delivered_customer_date  \\\n",
              "0              2017-10-04 19:55:00           2017-10-10 21:25:13   \n",
              "1              2018-07-26 14:31:00           2018-08-07 15:27:45   \n",
              "2              2018-08-08 13:50:00           2018-08-17 18:06:29   \n",
              "3              2017-11-22 13:39:59           2017-12-02 00:28:42   \n",
              "4              2018-02-14 19:46:34           2018-02-16 18:17:02   \n",
              "...                            ...                           ...   \n",
              "99436          2017-03-10 11:18:03           2017-03-17 15:08:01   \n",
              "99437          2018-02-07 23:22:42           2018-02-28 17:37:56   \n",
              "99438          2017-08-28 20:52:26           2017-09-21 11:24:17   \n",
              "99439          2018-01-12 15:35:03           2018-01-25 23:32:54   \n",
              "99440          2018-03-09 22:11:59           2018-03-16 13:08:30   \n",
              "\n",
              "      order_estimated_delivery_date  \n",
              "0               2017-10-18 00:00:00  \n",
              "1               2018-08-13 00:00:00  \n",
              "2               2018-09-04 00:00:00  \n",
              "3               2017-12-15 00:00:00  \n",
              "4               2018-02-26 00:00:00  \n",
              "...                             ...  \n",
              "99436           2017-03-28 00:00:00  \n",
              "99437           2018-03-02 00:00:00  \n",
              "99438           2017-09-27 00:00:00  \n",
              "99439           2018-02-15 00:00:00  \n",
              "99440           2018-04-03 00:00:00  \n",
              "\n",
              "[99441 rows x 8 columns]"
            ]
          },
          "execution_count": 38,
          "metadata": {},
          "output_type": "execute_result"
        }
      ],
      "source": [
        "orders = pd.read_csv(\"D:\\Bangkit\\Dashboard\\Source Dataset\\orders_dataset.csv\")\n",
        "orders"
      ]
    },
    {
      "cell_type": "markdown",
      "metadata": {},
      "source": [
        "Kode tersebut berisi perintah untuk memanggil file csv dengan nama orders_dataset.csv. File tersebut akan tersimpan dalam variable bernama orders."
      ]
    },
    {
      "cell_type": "code",
      "execution_count": 39,
      "metadata": {
        "colab": {
          "base_uri": "https://localhost:8080/",
          "height": 424
        },
        "id": "SjH56F50fpzc",
        "outputId": "225cdbbe-6cfc-4880-c2f2-37672a1a02f8"
      },
      "outputs": [
        {
          "data": {
            "text/html": [
              "<div>\n",
              "<style scoped>\n",
              "    .dataframe tbody tr th:only-of-type {\n",
              "        vertical-align: middle;\n",
              "    }\n",
              "\n",
              "    .dataframe tbody tr th {\n",
              "        vertical-align: top;\n",
              "    }\n",
              "\n",
              "    .dataframe thead th {\n",
              "        text-align: right;\n",
              "    }\n",
              "</style>\n",
              "<table border=\"1\" class=\"dataframe\">\n",
              "  <thead>\n",
              "    <tr style=\"text-align: right;\">\n",
              "      <th></th>\n",
              "      <th>product_category_name</th>\n",
              "      <th>product_category_name_english</th>\n",
              "    </tr>\n",
              "  </thead>\n",
              "  <tbody>\n",
              "    <tr>\n",
              "      <th>0</th>\n",
              "      <td>beleza_saude</td>\n",
              "      <td>health_beauty</td>\n",
              "    </tr>\n",
              "    <tr>\n",
              "      <th>1</th>\n",
              "      <td>informatica_acessorios</td>\n",
              "      <td>computers_accessories</td>\n",
              "    </tr>\n",
              "    <tr>\n",
              "      <th>2</th>\n",
              "      <td>automotivo</td>\n",
              "      <td>auto</td>\n",
              "    </tr>\n",
              "    <tr>\n",
              "      <th>3</th>\n",
              "      <td>cama_mesa_banho</td>\n",
              "      <td>bed_bath_table</td>\n",
              "    </tr>\n",
              "    <tr>\n",
              "      <th>4</th>\n",
              "      <td>moveis_decoracao</td>\n",
              "      <td>furniture_decor</td>\n",
              "    </tr>\n",
              "    <tr>\n",
              "      <th>...</th>\n",
              "      <td>...</td>\n",
              "      <td>...</td>\n",
              "    </tr>\n",
              "    <tr>\n",
              "      <th>66</th>\n",
              "      <td>flores</td>\n",
              "      <td>flowers</td>\n",
              "    </tr>\n",
              "    <tr>\n",
              "      <th>67</th>\n",
              "      <td>artes_e_artesanato</td>\n",
              "      <td>arts_and_craftmanship</td>\n",
              "    </tr>\n",
              "    <tr>\n",
              "      <th>68</th>\n",
              "      <td>fraldas_higiene</td>\n",
              "      <td>diapers_and_hygiene</td>\n",
              "    </tr>\n",
              "    <tr>\n",
              "      <th>69</th>\n",
              "      <td>fashion_roupa_infanto_juvenil</td>\n",
              "      <td>fashion_childrens_clothes</td>\n",
              "    </tr>\n",
              "    <tr>\n",
              "      <th>70</th>\n",
              "      <td>seguros_e_servicos</td>\n",
              "      <td>security_and_services</td>\n",
              "    </tr>\n",
              "  </tbody>\n",
              "</table>\n",
              "<p>71 rows × 2 columns</p>\n",
              "</div>"
            ],
            "text/plain": [
              "            product_category_name product_category_name_english\n",
              "0                    beleza_saude                 health_beauty\n",
              "1          informatica_acessorios         computers_accessories\n",
              "2                      automotivo                          auto\n",
              "3                 cama_mesa_banho                bed_bath_table\n",
              "4                moveis_decoracao               furniture_decor\n",
              "..                            ...                           ...\n",
              "66                         flores                       flowers\n",
              "67             artes_e_artesanato         arts_and_craftmanship\n",
              "68                fraldas_higiene           diapers_and_hygiene\n",
              "69  fashion_roupa_infanto_juvenil     fashion_childrens_clothes\n",
              "70             seguros_e_servicos         security_and_services\n",
              "\n",
              "[71 rows x 2 columns]"
            ]
          },
          "execution_count": 39,
          "metadata": {},
          "output_type": "execute_result"
        }
      ],
      "source": [
        "product_category = pd.read_csv(\"D:\\Bangkit\\Dashboard\\Source Dataset\\product_category_name_translation.csv\")\n",
        "product_category"
      ]
    },
    {
      "cell_type": "markdown",
      "metadata": {},
      "source": [
        "Kode tersebut berisi perintah untuk memanggil file csv dengan nama product_category_name_translation.csv. File tersebut akan tersimpan dalam variable bernama product_category."
      ]
    },
    {
      "cell_type": "code",
      "execution_count": 40,
      "metadata": {
        "colab": {
          "base_uri": "https://localhost:8080/",
          "height": 444
        },
        "id": "HyLxHabAfuoh",
        "outputId": "fc36c4f1-9ccd-4854-c588-7fccb4b119f4"
      },
      "outputs": [
        {
          "data": {
            "text/html": [
              "<div>\n",
              "<style scoped>\n",
              "    .dataframe tbody tr th:only-of-type {\n",
              "        vertical-align: middle;\n",
              "    }\n",
              "\n",
              "    .dataframe tbody tr th {\n",
              "        vertical-align: top;\n",
              "    }\n",
              "\n",
              "    .dataframe thead th {\n",
              "        text-align: right;\n",
              "    }\n",
              "</style>\n",
              "<table border=\"1\" class=\"dataframe\">\n",
              "  <thead>\n",
              "    <tr style=\"text-align: right;\">\n",
              "      <th></th>\n",
              "      <th>product_id</th>\n",
              "      <th>product_category_name</th>\n",
              "      <th>product_name_lenght</th>\n",
              "      <th>product_description_lenght</th>\n",
              "      <th>product_photos_qty</th>\n",
              "      <th>product_weight_g</th>\n",
              "      <th>product_length_cm</th>\n",
              "      <th>product_height_cm</th>\n",
              "      <th>product_width_cm</th>\n",
              "    </tr>\n",
              "  </thead>\n",
              "  <tbody>\n",
              "    <tr>\n",
              "      <th>0</th>\n",
              "      <td>1e9e8ef04dbcff4541ed26657ea517e5</td>\n",
              "      <td>perfumaria</td>\n",
              "      <td>40.0</td>\n",
              "      <td>287.0</td>\n",
              "      <td>1.0</td>\n",
              "      <td>225.0</td>\n",
              "      <td>16.0</td>\n",
              "      <td>10.0</td>\n",
              "      <td>14.0</td>\n",
              "    </tr>\n",
              "    <tr>\n",
              "      <th>1</th>\n",
              "      <td>3aa071139cb16b67ca9e5dea641aaa2f</td>\n",
              "      <td>artes</td>\n",
              "      <td>44.0</td>\n",
              "      <td>276.0</td>\n",
              "      <td>1.0</td>\n",
              "      <td>1000.0</td>\n",
              "      <td>30.0</td>\n",
              "      <td>18.0</td>\n",
              "      <td>20.0</td>\n",
              "    </tr>\n",
              "    <tr>\n",
              "      <th>2</th>\n",
              "      <td>96bd76ec8810374ed1b65e291975717f</td>\n",
              "      <td>esporte_lazer</td>\n",
              "      <td>46.0</td>\n",
              "      <td>250.0</td>\n",
              "      <td>1.0</td>\n",
              "      <td>154.0</td>\n",
              "      <td>18.0</td>\n",
              "      <td>9.0</td>\n",
              "      <td>15.0</td>\n",
              "    </tr>\n",
              "    <tr>\n",
              "      <th>3</th>\n",
              "      <td>cef67bcfe19066a932b7673e239eb23d</td>\n",
              "      <td>bebes</td>\n",
              "      <td>27.0</td>\n",
              "      <td>261.0</td>\n",
              "      <td>1.0</td>\n",
              "      <td>371.0</td>\n",
              "      <td>26.0</td>\n",
              "      <td>4.0</td>\n",
              "      <td>26.0</td>\n",
              "    </tr>\n",
              "    <tr>\n",
              "      <th>4</th>\n",
              "      <td>9dc1a7de274444849c219cff195d0b71</td>\n",
              "      <td>utilidades_domesticas</td>\n",
              "      <td>37.0</td>\n",
              "      <td>402.0</td>\n",
              "      <td>4.0</td>\n",
              "      <td>625.0</td>\n",
              "      <td>20.0</td>\n",
              "      <td>17.0</td>\n",
              "      <td>13.0</td>\n",
              "    </tr>\n",
              "    <tr>\n",
              "      <th>...</th>\n",
              "      <td>...</td>\n",
              "      <td>...</td>\n",
              "      <td>...</td>\n",
              "      <td>...</td>\n",
              "      <td>...</td>\n",
              "      <td>...</td>\n",
              "      <td>...</td>\n",
              "      <td>...</td>\n",
              "      <td>...</td>\n",
              "    </tr>\n",
              "    <tr>\n",
              "      <th>32946</th>\n",
              "      <td>a0b7d5a992ccda646f2d34e418fff5a0</td>\n",
              "      <td>moveis_decoracao</td>\n",
              "      <td>45.0</td>\n",
              "      <td>67.0</td>\n",
              "      <td>2.0</td>\n",
              "      <td>12300.0</td>\n",
              "      <td>40.0</td>\n",
              "      <td>40.0</td>\n",
              "      <td>40.0</td>\n",
              "    </tr>\n",
              "    <tr>\n",
              "      <th>32947</th>\n",
              "      <td>bf4538d88321d0fd4412a93c974510e6</td>\n",
              "      <td>construcao_ferramentas_iluminacao</td>\n",
              "      <td>41.0</td>\n",
              "      <td>971.0</td>\n",
              "      <td>1.0</td>\n",
              "      <td>1700.0</td>\n",
              "      <td>16.0</td>\n",
              "      <td>19.0</td>\n",
              "      <td>16.0</td>\n",
              "    </tr>\n",
              "    <tr>\n",
              "      <th>32948</th>\n",
              "      <td>9a7c6041fa9592d9d9ef6cfe62a71f8c</td>\n",
              "      <td>cama_mesa_banho</td>\n",
              "      <td>50.0</td>\n",
              "      <td>799.0</td>\n",
              "      <td>1.0</td>\n",
              "      <td>1400.0</td>\n",
              "      <td>27.0</td>\n",
              "      <td>7.0</td>\n",
              "      <td>27.0</td>\n",
              "    </tr>\n",
              "    <tr>\n",
              "      <th>32949</th>\n",
              "      <td>83808703fc0706a22e264b9d75f04a2e</td>\n",
              "      <td>informatica_acessorios</td>\n",
              "      <td>60.0</td>\n",
              "      <td>156.0</td>\n",
              "      <td>2.0</td>\n",
              "      <td>700.0</td>\n",
              "      <td>31.0</td>\n",
              "      <td>13.0</td>\n",
              "      <td>20.0</td>\n",
              "    </tr>\n",
              "    <tr>\n",
              "      <th>32950</th>\n",
              "      <td>106392145fca363410d287a815be6de4</td>\n",
              "      <td>cama_mesa_banho</td>\n",
              "      <td>58.0</td>\n",
              "      <td>309.0</td>\n",
              "      <td>1.0</td>\n",
              "      <td>2083.0</td>\n",
              "      <td>12.0</td>\n",
              "      <td>2.0</td>\n",
              "      <td>7.0</td>\n",
              "    </tr>\n",
              "  </tbody>\n",
              "</table>\n",
              "<p>32951 rows × 9 columns</p>\n",
              "</div>"
            ],
            "text/plain": [
              "                             product_id              product_category_name  \\\n",
              "0      1e9e8ef04dbcff4541ed26657ea517e5                         perfumaria   \n",
              "1      3aa071139cb16b67ca9e5dea641aaa2f                              artes   \n",
              "2      96bd76ec8810374ed1b65e291975717f                      esporte_lazer   \n",
              "3      cef67bcfe19066a932b7673e239eb23d                              bebes   \n",
              "4      9dc1a7de274444849c219cff195d0b71              utilidades_domesticas   \n",
              "...                                 ...                                ...   \n",
              "32946  a0b7d5a992ccda646f2d34e418fff5a0                   moveis_decoracao   \n",
              "32947  bf4538d88321d0fd4412a93c974510e6  construcao_ferramentas_iluminacao   \n",
              "32948  9a7c6041fa9592d9d9ef6cfe62a71f8c                    cama_mesa_banho   \n",
              "32949  83808703fc0706a22e264b9d75f04a2e             informatica_acessorios   \n",
              "32950  106392145fca363410d287a815be6de4                    cama_mesa_banho   \n",
              "\n",
              "       product_name_lenght  product_description_lenght  product_photos_qty  \\\n",
              "0                     40.0                       287.0                 1.0   \n",
              "1                     44.0                       276.0                 1.0   \n",
              "2                     46.0                       250.0                 1.0   \n",
              "3                     27.0                       261.0                 1.0   \n",
              "4                     37.0                       402.0                 4.0   \n",
              "...                    ...                         ...                 ...   \n",
              "32946                 45.0                        67.0                 2.0   \n",
              "32947                 41.0                       971.0                 1.0   \n",
              "32948                 50.0                       799.0                 1.0   \n",
              "32949                 60.0                       156.0                 2.0   \n",
              "32950                 58.0                       309.0                 1.0   \n",
              "\n",
              "       product_weight_g  product_length_cm  product_height_cm  \\\n",
              "0                 225.0               16.0               10.0   \n",
              "1                1000.0               30.0               18.0   \n",
              "2                 154.0               18.0                9.0   \n",
              "3                 371.0               26.0                4.0   \n",
              "4                 625.0               20.0               17.0   \n",
              "...                 ...                ...                ...   \n",
              "32946           12300.0               40.0               40.0   \n",
              "32947            1700.0               16.0               19.0   \n",
              "32948            1400.0               27.0                7.0   \n",
              "32949             700.0               31.0               13.0   \n",
              "32950            2083.0               12.0                2.0   \n",
              "\n",
              "       product_width_cm  \n",
              "0                  14.0  \n",
              "1                  20.0  \n",
              "2                  15.0  \n",
              "3                  26.0  \n",
              "4                  13.0  \n",
              "...                 ...  \n",
              "32946              40.0  \n",
              "32947              16.0  \n",
              "32948              27.0  \n",
              "32949              20.0  \n",
              "32950               7.0  \n",
              "\n",
              "[32951 rows x 9 columns]"
            ]
          },
          "execution_count": 40,
          "metadata": {},
          "output_type": "execute_result"
        }
      ],
      "source": [
        "product = pd.read_csv(\"D:\\Bangkit\\Dashboard\\Source Dataset\\products_dataset.csv\")\n",
        "product"
      ]
    },
    {
      "cell_type": "markdown",
      "metadata": {},
      "source": [
        "Kode tersebut berisi perintah untuk memanggil file csv dengan nama products_dataset.csv. File tersebut akan tersimpan dalam variable bernama product."
      ]
    },
    {
      "cell_type": "code",
      "execution_count": 41,
      "metadata": {
        "colab": {
          "base_uri": "https://localhost:8080/",
          "height": 244
        },
        "id": "zXLvkgufoluU",
        "outputId": "bd4858c7-1ec0-437e-8453-4ab2a407d6e3"
      },
      "outputs": [
        {
          "data": {
            "text/html": [
              "<div>\n",
              "<style scoped>\n",
              "    .dataframe tbody tr th:only-of-type {\n",
              "        vertical-align: middle;\n",
              "    }\n",
              "\n",
              "    .dataframe tbody tr th {\n",
              "        vertical-align: top;\n",
              "    }\n",
              "\n",
              "    .dataframe thead th {\n",
              "        text-align: right;\n",
              "    }\n",
              "</style>\n",
              "<table border=\"1\" class=\"dataframe\">\n",
              "  <thead>\n",
              "    <tr style=\"text-align: right;\">\n",
              "      <th></th>\n",
              "      <th>customer_id</th>\n",
              "      <th>customer_city</th>\n",
              "      <th>order_id</th>\n",
              "      <th>order_approved_at</th>\n",
              "      <th>product_id</th>\n",
              "      <th>product_category_name_english</th>\n",
              "      <th>price</th>\n",
              "      <th>payment_value</th>\n",
              "    </tr>\n",
              "  </thead>\n",
              "  <tbody>\n",
              "    <tr>\n",
              "      <th>0</th>\n",
              "      <td>3ce436f183e68e07877b285a838db11a</td>\n",
              "      <td>campos dos goytacazes</td>\n",
              "      <td>00010242fe8c5a6d1ba2dd792cb16214</td>\n",
              "      <td>2017-09-13 09:45:35</td>\n",
              "      <td>4244733e06e7ecb4970a6e2683c13e61</td>\n",
              "      <td>cool_stuff</td>\n",
              "      <td>58.90</td>\n",
              "      <td>72.19</td>\n",
              "    </tr>\n",
              "    <tr>\n",
              "      <th>1</th>\n",
              "      <td>f6dd3ec061db4e3987629fe6b26e5cce</td>\n",
              "      <td>santa fe do sul</td>\n",
              "      <td>00018f77f2f0320c557190d7a144bdd3</td>\n",
              "      <td>2017-04-26 11:05:13</td>\n",
              "      <td>e5f2d52b802189ee658865ca93d83a8f</td>\n",
              "      <td>pet_shop</td>\n",
              "      <td>239.90</td>\n",
              "      <td>259.83</td>\n",
              "    </tr>\n",
              "    <tr>\n",
              "      <th>2</th>\n",
              "      <td>6489ae5e4333f3693df5ad4372dab6d3</td>\n",
              "      <td>para de minas</td>\n",
              "      <td>000229ec398224ef6ca0657da4fc703e</td>\n",
              "      <td>2018-01-14 14:48:30</td>\n",
              "      <td>c777355d18b72b67abbeef9df44fd0fd</td>\n",
              "      <td>furniture_decor</td>\n",
              "      <td>199.00</td>\n",
              "      <td>216.87</td>\n",
              "    </tr>\n",
              "    <tr>\n",
              "      <th>3</th>\n",
              "      <td>d4eb9395c8c0431ee92fce09860c5a06</td>\n",
              "      <td>atibaia</td>\n",
              "      <td>00024acbcdf0a6daa1e931b038114c75</td>\n",
              "      <td>2018-08-08 10:10:18</td>\n",
              "      <td>7634da152a4610f1595efa32f14722fc</td>\n",
              "      <td>perfumery</td>\n",
              "      <td>12.99</td>\n",
              "      <td>25.78</td>\n",
              "    </tr>\n",
              "    <tr>\n",
              "      <th>4</th>\n",
              "      <td>58dbd0b2d70206bf40e62cd34e84d795</td>\n",
              "      <td>varzea paulista</td>\n",
              "      <td>00042b26cf59d7ce69dfabb4e55b4fd9</td>\n",
              "      <td>2017-02-04 14:10:13</td>\n",
              "      <td>ac6c3623068f30de03045865e4e10089</td>\n",
              "      <td>garden_tools</td>\n",
              "      <td>199.90</td>\n",
              "      <td>218.04</td>\n",
              "    </tr>\n",
              "  </tbody>\n",
              "</table>\n",
              "</div>"
            ],
            "text/plain": [
              "                        customer_id          customer_city  \\\n",
              "0  3ce436f183e68e07877b285a838db11a  campos dos goytacazes   \n",
              "1  f6dd3ec061db4e3987629fe6b26e5cce        santa fe do sul   \n",
              "2  6489ae5e4333f3693df5ad4372dab6d3          para de minas   \n",
              "3  d4eb9395c8c0431ee92fce09860c5a06                atibaia   \n",
              "4  58dbd0b2d70206bf40e62cd34e84d795        varzea paulista   \n",
              "\n",
              "                           order_id    order_approved_at  \\\n",
              "0  00010242fe8c5a6d1ba2dd792cb16214  2017-09-13 09:45:35   \n",
              "1  00018f77f2f0320c557190d7a144bdd3  2017-04-26 11:05:13   \n",
              "2  000229ec398224ef6ca0657da4fc703e  2018-01-14 14:48:30   \n",
              "3  00024acbcdf0a6daa1e931b038114c75  2018-08-08 10:10:18   \n",
              "4  00042b26cf59d7ce69dfabb4e55b4fd9  2017-02-04 14:10:13   \n",
              "\n",
              "                         product_id product_category_name_english   price  \\\n",
              "0  4244733e06e7ecb4970a6e2683c13e61                    cool_stuff   58.90   \n",
              "1  e5f2d52b802189ee658865ca93d83a8f                      pet_shop  239.90   \n",
              "2  c777355d18b72b67abbeef9df44fd0fd               furniture_decor  199.00   \n",
              "3  7634da152a4610f1595efa32f14722fc                     perfumery   12.99   \n",
              "4  ac6c3623068f30de03045865e4e10089                  garden_tools  199.90   \n",
              "\n",
              "   payment_value  \n",
              "0          72.19  \n",
              "1         259.83  \n",
              "2         216.87  \n",
              "3          25.78  \n",
              "4         218.04  "
            ]
          },
          "execution_count": 41,
          "metadata": {},
          "output_type": "execute_result"
        }
      ],
      "source": [
        "#Menggabungkan dataset\n",
        "data = pd.merge(order_items, product, on='product_id')\n",
        "data = pd.merge(data, orders, on='order_id')\n",
        "data = pd.merge(data, product_category, on='product_category_name')\n",
        "data = pd.merge(data, customers, on='customer_id')\n",
        "data = pd.merge(data, order_payments, on='order_id')\n",
        "data_final = data[['customer_id', 'customer_city', 'order_id', 'order_approved_at', 'product_id', 'product_category_name_english', 'price', 'payment_value']]\n",
        "data_final.head()"
      ]
    },
    {
      "cell_type": "markdown",
      "metadata": {},
      "source": [
        "Terdapat 6 file csv berbeda yang nantinya akan digunakan untuk proses analisis data. Ke-6 file csv tersebut kemudian saya gabungkan untuk mempermudah proses data assessing dan data cleaning. Adapun saya juga menggunakan beberapa atribut saja dari masing-masing data yang kemudian saya gabungkan ke dalam satu variable baru bernama `data_final`"
      ]
    },
    {
      "cell_type": "markdown",
      "metadata": {
        "id": "cv-AKkArlWqI"
      },
      "source": [
        "**Insight:**\n",
        "\n",
        "Sebelumnya, telah ditentukan lima pertanyaan yang nantinya akan dijawab dengan menggunakan analisis data. Lima pertanyaan tersebut meliputi produk terlaris, performa penjualan, jumalah total penjualan, perbandingan pendapatan, dan lokasi dimana banyak terjadi transaksi pembelian produk. Tentunya, dari ke-7 dataset yang ada terkait E-Commerce Public Dataset, hanya akan diambil beberapa dataset saja yang untuk menjawab kedua pertanyaan tersebut. Oleh karena itu, saya akan mengambil atribut customer_id, customer_city, orderd_id, order_approved_at, product_id, product_category_name_english, price, dan payment_value."
      ]
    },
    {
      "cell_type": "markdown",
      "metadata": {
        "id": "FHSiqaZp8DC1"
      },
      "source": [
        "### Assessing Data"
      ]
    },
    {
      "cell_type": "code",
      "execution_count": 42,
      "metadata": {
        "colab": {
          "base_uri": "https://localhost:8080/"
        },
        "id": "ax-3tEjc9Cj1",
        "outputId": "5ddb3526-5e97-4b98-a0ba-116c5307f60d"
      },
      "outputs": [
        {
          "name": "stdout",
          "output_type": "stream",
          "text": [
            "<class 'pandas.core.frame.DataFrame'>\n",
            "RangeIndex: 115878 entries, 0 to 115877\n",
            "Data columns (total 8 columns):\n",
            " #   Column                         Non-Null Count   Dtype  \n",
            "---  ------                         --------------   -----  \n",
            " 0   customer_id                    115878 non-null  object \n",
            " 1   customer_city                  115878 non-null  object \n",
            " 2   order_id                       115878 non-null  object \n",
            " 3   order_approved_at              115864 non-null  object \n",
            " 4   product_id                     115878 non-null  object \n",
            " 5   product_category_name_english  115878 non-null  object \n",
            " 6   price                          115878 non-null  float64\n",
            " 7   payment_value                  115878 non-null  float64\n",
            "dtypes: float64(2), object(6)\n",
            "memory usage: 7.1+ MB\n"
          ]
        }
      ],
      "source": [
        "#Information\n",
        "data_final.info()"
      ]
    },
    {
      "cell_type": "markdown",
      "metadata": {
        "id": "IXICg_CyEkPo"
      },
      "source": [
        "Berdasarkan informasi yang diperoleh, dari banyaknya data yang didapat semua tipe data sudah sesuai dengan isi dari data terkait. Namun, hal tersebut tidak sesuai pada atribut order_approved_at, dimana seharusnya tipe data pada atribut tersebut adalah datetime. Kemudian, adanya indikasi missing value pada atribut order_approved_at, dikarenakan jumlah data yang tidak kosong pada atribut tersebut lebih sedikit dibandingkan dengan atribut yang lainnya. Sehingga, analisis berikutnya diperlukan untuk :\n",
        "\n",
        "1. Mengubah bentuk data order_approved_at menjadi bentuk datetime.\n",
        "2. Memeriksa missing value yang ada pada atribut tersebut."
      ]
    },
    {
      "cell_type": "code",
      "execution_count": 43,
      "metadata": {
        "colab": {
          "base_uri": "https://localhost:8080/",
          "height": 335
        },
        "id": "WKLP1gmfmesf",
        "outputId": "ddbb85c9-5c38-437d-dfcb-d217dedeef84"
      },
      "outputs": [
        {
          "data": {
            "text/plain": [
              "customer_id                       0\n",
              "customer_city                     0\n",
              "order_id                          0\n",
              "order_approved_at                14\n",
              "product_id                        0\n",
              "product_category_name_english     0\n",
              "price                             0\n",
              "payment_value                     0\n",
              "dtype: int64"
            ]
          },
          "execution_count": 43,
          "metadata": {},
          "output_type": "execute_result"
        }
      ],
      "source": [
        "# Missing Value\n",
        "data_final.isna().sum()"
      ]
    },
    {
      "cell_type": "markdown",
      "metadata": {
        "id": "WfrgqavGGT0K"
      },
      "source": [
        "Didapatkan, dari kelima atribut data tersebut, order_approved_at memiliki nilai kosong sebanyak 14 baris data. Sehingga pada proses tahapan analisis berikutnya (Data Cleaning) perlu melakukan tindakan penanganan missing value.\n",
        "\n",
        "Tugas tahapan berikutnya\n",
        "1. Menangani Missing Value"
      ]
    },
    {
      "cell_type": "code",
      "execution_count": 44,
      "metadata": {
        "colab": {
          "base_uri": "https://localhost:8080/"
        },
        "id": "MAQ2gnI9mvrC",
        "outputId": "b5a511e1-9780-4d50-ced8-a7fd127c8dd3"
      },
      "outputs": [
        {
          "data": {
            "text/plain": [
              "np.int64(11039)"
            ]
          },
          "execution_count": 44,
          "metadata": {},
          "output_type": "execute_result"
        }
      ],
      "source": [
        "# Duplikasi\n",
        "data_final.duplicated().sum()"
      ]
    },
    {
      "cell_type": "markdown",
      "metadata": {
        "id": "_QK8HePZHpCt"
      },
      "source": [
        "Pada pemeriksaan duplikasi data, didapatkan bahwa dataset data_merge memiliki data yang kembar atau duplikasi sebanyak 11039 baris data. Namun, mengingat data yang digunakan adalah data penjualan (sales data), maka akan besar kemungkinan terjadinya duplikasi data karena ada kemungkinan satu order_id membeli lebih dari satu jenis product_id. Begitupun sebaliknya, product_id akan muncul berkali-kali pada tiap order_id yang memesan product tersebut."
      ]
    },
    {
      "cell_type": "code",
      "execution_count": 45,
      "metadata": {
        "colab": {
          "base_uri": "https://localhost:8080/",
          "height": 300
        },
        "id": "l13_BWDpm2uS",
        "outputId": "6f47a236-eb27-45ff-de42-eeefa7d85f66"
      },
      "outputs": [
        {
          "data": {
            "text/html": [
              "<div>\n",
              "<style scoped>\n",
              "    .dataframe tbody tr th:only-of-type {\n",
              "        vertical-align: middle;\n",
              "    }\n",
              "\n",
              "    .dataframe tbody tr th {\n",
              "        vertical-align: top;\n",
              "    }\n",
              "\n",
              "    .dataframe thead th {\n",
              "        text-align: right;\n",
              "    }\n",
              "</style>\n",
              "<table border=\"1\" class=\"dataframe\">\n",
              "  <thead>\n",
              "    <tr style=\"text-align: right;\">\n",
              "      <th></th>\n",
              "      <th>price</th>\n",
              "      <th>payment_value</th>\n",
              "    </tr>\n",
              "  </thead>\n",
              "  <tbody>\n",
              "    <tr>\n",
              "      <th>count</th>\n",
              "      <td>115878.000000</td>\n",
              "      <td>115878.000000</td>\n",
              "    </tr>\n",
              "    <tr>\n",
              "      <th>mean</th>\n",
              "      <td>120.924716</td>\n",
              "      <td>173.016646</td>\n",
              "    </tr>\n",
              "    <tr>\n",
              "      <th>std</th>\n",
              "      <td>184.217144</td>\n",
              "      <td>268.110998</td>\n",
              "    </tr>\n",
              "    <tr>\n",
              "      <th>min</th>\n",
              "      <td>0.850000</td>\n",
              "      <td>0.000000</td>\n",
              "    </tr>\n",
              "    <tr>\n",
              "      <th>25%</th>\n",
              "      <td>39.900000</td>\n",
              "      <td>61.010000</td>\n",
              "    </tr>\n",
              "    <tr>\n",
              "      <th>50%</th>\n",
              "      <td>74.900000</td>\n",
              "      <td>108.200000</td>\n",
              "    </tr>\n",
              "    <tr>\n",
              "      <th>75%</th>\n",
              "      <td>134.900000</td>\n",
              "      <td>189.720000</td>\n",
              "    </tr>\n",
              "    <tr>\n",
              "      <th>max</th>\n",
              "      <td>6735.000000</td>\n",
              "      <td>13664.080000</td>\n",
              "    </tr>\n",
              "  </tbody>\n",
              "</table>\n",
              "</div>"
            ],
            "text/plain": [
              "               price  payment_value\n",
              "count  115878.000000  115878.000000\n",
              "mean      120.924716     173.016646\n",
              "std       184.217144     268.110998\n",
              "min         0.850000       0.000000\n",
              "25%        39.900000      61.010000\n",
              "50%        74.900000     108.200000\n",
              "75%       134.900000     189.720000\n",
              "max      6735.000000   13664.080000"
            ]
          },
          "execution_count": 45,
          "metadata": {},
          "output_type": "execute_result"
        }
      ],
      "source": [
        "# Descriptive Statistic\n",
        "data_final.describe()"
      ]
    },
    {
      "cell_type": "markdown",
      "metadata": {
        "id": "R1YukRbDmH87"
      },
      "source": [
        "Sebagian besar data yang digunakan adalah data kategorik, sehingga untuk deskriptif statistik hanya dapat digunakan oleh atribut price dan payment_value. Berdasarkan hasil perhitungan statistika deskriptif tersebut, didapatkan bahwa nilai rata-rata dari price dan payment_value berturut-turut adalah 120,92 dan 173,01 dengan quartil ke-3 (Q3) sebesar 134,9 dan 189,7. Namun, nilai terbesar dari kedua atribut tersebut cukup jauh selisihnya dari mean dan kuartil ke-3, yakni sebesar 6735 dan 13664. Hal tersebut menjadi sebuah indikasi adanya outlier dalam dataset tersebut."
      ]
    },
    {
      "cell_type": "code",
      "execution_count": 46,
      "metadata": {
        "colab": {
          "base_uri": "https://localhost:8080/",
          "height": 465
        },
        "id": "n6leWK3iltLA",
        "outputId": "ff549db6-681d-48b5-a3c0-9399f69b0f7f"
      },
      "outputs": [
        {
          "data": {
            "image/png": "[encoded data removed]",
            "text/plain": [
              "<Figure size 640x480 with 1 Axes>"
            ]
          },
          "metadata": {},
          "output_type": "display_data"
        },
        {
          "name": "stdout",
          "output_type": "stream",
          "text": [
            "Jumlah Outliers: 8753\n"
          ]
        }
      ],
      "source": [
        "# Box Plot for Price\n",
        "sns.boxplot(data=data_final, y='price')\n",
        "plt.show()\n",
        "\n",
        "# Numerical Count for Price\n",
        "q1 = data_final['price'].quantile(0.25)\n",
        "q3 = data_final['price'].quantile(0.75)\n",
        "iqr = q3 - q1\n",
        "upper = q3 + (1.5 * iqr)\n",
        "lower = q1 - (1.5 * iqr)\n",
        "\n",
        "outliers = data_final[(data_final['price'] > upper) | (data_final['price'] < lower)]\n",
        "num_outliers = len(outliers)\n",
        "print(\"Jumlah Outliers:\", num_outliers)"
      ]
    },
    {
      "cell_type": "code",
      "execution_count": 47,
      "metadata": {
        "colab": {
          "base_uri": "https://localhost:8080/",
          "height": 463
        },
        "id": "NSqa0Z9VS7bE",
        "outputId": "3573ca38-4b14-46ec-b97d-310fe22663c0"
      },
      "outputs": [
        {
          "data": {
            "image/png": "[encoded data removed]",
            "text/plain": [
              "<Figure size 640x480 with 1 Axes>"
            ]
          },
          "metadata": {},
          "output_type": "display_data"
        },
        {
          "name": "stdout",
          "output_type": "stream",
          "text": [
            "Jumlah Outliers: 9373\n"
          ]
        }
      ],
      "source": [
        "\n",
        "# Box Plot for Payment_Value\n",
        "sns.boxplot(data=data_final, y='payment_value')\n",
        "plt.show()\n",
        "\n",
        "# Numerical Count for Payment_Value\n",
        "q1 = data_final['payment_value'].quantile(0.25)\n",
        "q3 = data_final['payment_value'].quantile(0.75)\n",
        "iqr = q3 - q1\n",
        "upper = q3 + (1.5 * iqr)\n",
        "lower = q1 - (1.5 * iqr)\n",
        "\n",
        "outliers = data_final[(data_final['payment_value'] > upper) | (data_final['payment_value'] < lower)]\n",
        "num_outliers = len(outliers)\n",
        "print(\"Jumlah Outliers:\", num_outliers)"
      ]
    },
    {
      "cell_type": "markdown",
      "metadata": {
        "id": "8iJfDxaKnwwW"
      },
      "source": [
        "Setelah melalui perhitungan menggunakan perhitungan nilai quartil dan visualisasi box-plot yang ada, diketahui bahwa atribut price memang memiliki outlier yang cukup banyak. Dapat diketahui bahwa terdapat 8340 data outlier yang ada pada atribut price dan sebanyak 9373 data outlier yang ada pada atribut Payment Value. Sehingga pada analisis berikutnya, diperlukan proses penanganan outlier yang mana nantinya akan disesuaikan dengan kebutuhan data untuk proses analisis."
      ]
    },
    {
      "cell_type": "markdown",
      "metadata": {
        "id": "EhN5R4hr8DC1"
      },
      "source": [
        "### Cleaning Data"
      ]
    },
    {
      "cell_type": "code",
      "execution_count": 48,
      "metadata": {
        "colab": {
          "base_uri": "https://localhost:8080/"
        },
        "id": "jVnYpprE9Evz",
        "outputId": "a0932b7c-8c11-4aa9-ff25-272d61487db7"
      },
      "outputs": [
        {
          "name": "stdout",
          "output_type": "stream",
          "text": [
            "<class 'pandas.core.frame.DataFrame'>\n",
            "RangeIndex: 115878 entries, 0 to 115877\n",
            "Data columns (total 8 columns):\n",
            " #   Column                         Non-Null Count   Dtype         \n",
            "---  ------                         --------------   -----         \n",
            " 0   customer_id                    115878 non-null  object        \n",
            " 1   customer_city                  115878 non-null  object        \n",
            " 2   order_id                       115878 non-null  object        \n",
            " 3   order_approved_at              115864 non-null  datetime64[ns]\n",
            " 4   product_id                     115878 non-null  object        \n",
            " 5   product_category_name_english  115878 non-null  object        \n",
            " 6   price                          115878 non-null  float64       \n",
            " 7   payment_value                  115878 non-null  float64       \n",
            "dtypes: datetime64[ns](1), float64(2), object(5)\n",
            "memory usage: 7.1+ MB\n"
          ]
        },
        {
          "name": "stderr",
          "output_type": "stream",
          "text": [
            "C:\\Users\\randi\\AppData\\Local\\Temp\\ipykernel_39820\\1972496535.py:2: SettingWithCopyWarning: \n",
            "A value is trying to be set on a copy of a slice from a DataFrame.\n",
            "Try using .loc[row_indexer,col_indexer] = value instead\n",
            "\n",
            "See the caveats in the documentation: https://pandas.pydata.org/pandas-docs/stable/user_guide/indexing.html#returning-a-view-versus-a-copy\n",
            "  data_final['order_approved_at'] = pd.to_datetime(data_final['order_approved_at'])\n"
          ]
        }
      ],
      "source": [
        "# Mengubah data type dari atribut order_approved_at ke dalam bentuk datetime.\n",
        "data_final['order_approved_at'] = pd.to_datetime(data_final['order_approved_at'])\n",
        "data_final.info()"
      ]
    },
    {
      "cell_type": "markdown",
      "metadata": {
        "id": "Qrai79KJq3pX"
      },
      "source": [
        "Sesuai dengan kesalahan tipe daya yang ditemukan pada tahapan assessmen sebelumnya, didapatkan bahwa order_approved_at kini sudah memiliki tipe data yang sesuai yakni datetime. Namun, untuk analisis nantinya hanya akan diperlukan data waktu seperti tanggal, bulan, dan tahun. Sementara itu, pada data tersebut tertulis bahwa atribut datetime masih mengandung jam, menit, dan detik. Sehingga dapat dituliskan kode seperti berikut untuk hanya menampilkan data dengan format dd/mm/yyyy."
      ]
    },
    {
      "cell_type": "code",
      "execution_count": 49,
      "metadata": {
        "colab": {
          "base_uri": "https://localhost:8080/",
          "height": 348
        },
        "id": "vNsU-DXyryiB",
        "outputId": "d2270383-5c0d-42b9-fa0f-96955fa0cd67"
      },
      "outputs": [
        {
          "name": "stderr",
          "output_type": "stream",
          "text": [
            "C:\\Users\\randi\\AppData\\Local\\Temp\\ipykernel_39820\\2399632847.py:1: SettingWithCopyWarning: \n",
            "A value is trying to be set on a copy of a slice from a DataFrame.\n",
            "Try using .loc[row_indexer,col_indexer] = value instead\n",
            "\n",
            "See the caveats in the documentation: https://pandas.pydata.org/pandas-docs/stable/user_guide/indexing.html#returning-a-view-versus-a-copy\n",
            "  data_final['order_approved_at'] = data_final['order_approved_at'].dt.date\n"
          ]
        },
        {
          "data": {
            "text/html": [
              "<div>\n",
              "<style scoped>\n",
              "    .dataframe tbody tr th:only-of-type {\n",
              "        vertical-align: middle;\n",
              "    }\n",
              "\n",
              "    .dataframe tbody tr th {\n",
              "        vertical-align: top;\n",
              "    }\n",
              "\n",
              "    .dataframe thead th {\n",
              "        text-align: right;\n",
              "    }\n",
              "</style>\n",
              "<table border=\"1\" class=\"dataframe\">\n",
              "  <thead>\n",
              "    <tr style=\"text-align: right;\">\n",
              "      <th></th>\n",
              "      <th>customer_id</th>\n",
              "      <th>customer_city</th>\n",
              "      <th>order_id</th>\n",
              "      <th>order_approved_at</th>\n",
              "      <th>product_id</th>\n",
              "      <th>product_category_name_english</th>\n",
              "      <th>price</th>\n",
              "      <th>payment_value</th>\n",
              "    </tr>\n",
              "  </thead>\n",
              "  <tbody>\n",
              "    <tr>\n",
              "      <th>0</th>\n",
              "      <td>3ce436f183e68e07877b285a838db11a</td>\n",
              "      <td>campos dos goytacazes</td>\n",
              "      <td>00010242fe8c5a6d1ba2dd792cb16214</td>\n",
              "      <td>2017-09-13</td>\n",
              "      <td>4244733e06e7ecb4970a6e2683c13e61</td>\n",
              "      <td>cool_stuff</td>\n",
              "      <td>58.90</td>\n",
              "      <td>72.19</td>\n",
              "    </tr>\n",
              "    <tr>\n",
              "      <th>1</th>\n",
              "      <td>f6dd3ec061db4e3987629fe6b26e5cce</td>\n",
              "      <td>santa fe do sul</td>\n",
              "      <td>00018f77f2f0320c557190d7a144bdd3</td>\n",
              "      <td>2017-04-26</td>\n",
              "      <td>e5f2d52b802189ee658865ca93d83a8f</td>\n",
              "      <td>pet_shop</td>\n",
              "      <td>239.90</td>\n",
              "      <td>259.83</td>\n",
              "    </tr>\n",
              "    <tr>\n",
              "      <th>2</th>\n",
              "      <td>6489ae5e4333f3693df5ad4372dab6d3</td>\n",
              "      <td>para de minas</td>\n",
              "      <td>000229ec398224ef6ca0657da4fc703e</td>\n",
              "      <td>2018-01-14</td>\n",
              "      <td>c777355d18b72b67abbeef9df44fd0fd</td>\n",
              "      <td>furniture_decor</td>\n",
              "      <td>199.00</td>\n",
              "      <td>216.87</td>\n",
              "    </tr>\n",
              "    <tr>\n",
              "      <th>3</th>\n",
              "      <td>d4eb9395c8c0431ee92fce09860c5a06</td>\n",
              "      <td>atibaia</td>\n",
              "      <td>00024acbcdf0a6daa1e931b038114c75</td>\n",
              "      <td>2018-08-08</td>\n",
              "      <td>7634da152a4610f1595efa32f14722fc</td>\n",
              "      <td>perfumery</td>\n",
              "      <td>12.99</td>\n",
              "      <td>25.78</td>\n",
              "    </tr>\n",
              "    <tr>\n",
              "      <th>4</th>\n",
              "      <td>58dbd0b2d70206bf40e62cd34e84d795</td>\n",
              "      <td>varzea paulista</td>\n",
              "      <td>00042b26cf59d7ce69dfabb4e55b4fd9</td>\n",
              "      <td>2017-02-04</td>\n",
              "      <td>ac6c3623068f30de03045865e4e10089</td>\n",
              "      <td>garden_tools</td>\n",
              "      <td>199.90</td>\n",
              "      <td>218.04</td>\n",
              "    </tr>\n",
              "  </tbody>\n",
              "</table>\n",
              "</div>"
            ],
            "text/plain": [
              "                        customer_id          customer_city  \\\n",
              "0  3ce436f183e68e07877b285a838db11a  campos dos goytacazes   \n",
              "1  f6dd3ec061db4e3987629fe6b26e5cce        santa fe do sul   \n",
              "2  6489ae5e4333f3693df5ad4372dab6d3          para de minas   \n",
              "3  d4eb9395c8c0431ee92fce09860c5a06                atibaia   \n",
              "4  58dbd0b2d70206bf40e62cd34e84d795        varzea paulista   \n",
              "\n",
              "                           order_id order_approved_at  \\\n",
              "0  00010242fe8c5a6d1ba2dd792cb16214        2017-09-13   \n",
              "1  00018f77f2f0320c557190d7a144bdd3        2017-04-26   \n",
              "2  000229ec398224ef6ca0657da4fc703e        2018-01-14   \n",
              "3  00024acbcdf0a6daa1e931b038114c75        2018-08-08   \n",
              "4  00042b26cf59d7ce69dfabb4e55b4fd9        2017-02-04   \n",
              "\n",
              "                         product_id product_category_name_english   price  \\\n",
              "0  4244733e06e7ecb4970a6e2683c13e61                    cool_stuff   58.90   \n",
              "1  e5f2d52b802189ee658865ca93d83a8f                      pet_shop  239.90   \n",
              "2  c777355d18b72b67abbeef9df44fd0fd               furniture_decor  199.00   \n",
              "3  7634da152a4610f1595efa32f14722fc                     perfumery   12.99   \n",
              "4  ac6c3623068f30de03045865e4e10089                  garden_tools  199.90   \n",
              "\n",
              "   payment_value  \n",
              "0          72.19  \n",
              "1         259.83  \n",
              "2         216.87  \n",
              "3          25.78  \n",
              "4         218.04  "
            ]
          },
          "execution_count": 49,
          "metadata": {},
          "output_type": "execute_result"
        }
      ],
      "source": [
        "data_final['order_approved_at'] = data_final['order_approved_at'].dt.date\n",
        "data_final.head()"
      ]
    },
    {
      "cell_type": "markdown",
      "metadata": {},
      "source": [
        "Melalui kode tersebut, dapat dilihat bahwa order_approved_at telah berubah posisi penulisannya menjadi format yyyy-mm-dd. Hal tersebut dilakukan karena nantinya akan berpengaruh terhadap proses analisis untuk periode waktu tertentu yang diinginkan."
      ]
    },
    {
      "cell_type": "code",
      "execution_count": 50,
      "metadata": {
        "colab": {
          "base_uri": "https://localhost:8080/",
          "height": 335
        },
        "id": "LAZJzENApmIo",
        "outputId": "5a64c72b-095e-4a9d-af45-81c1cdaa9dcd"
      },
      "outputs": [
        {
          "data": {
            "text/plain": [
              "customer_id                      0\n",
              "customer_city                    0\n",
              "order_id                         0\n",
              "order_approved_at                0\n",
              "product_id                       0\n",
              "product_category_name_english    0\n",
              "price                            0\n",
              "payment_value                    0\n",
              "dtype: int64"
            ]
          },
          "execution_count": 50,
          "metadata": {},
          "output_type": "execute_result"
        }
      ],
      "source": [
        "# Menghapus Missing Value\n",
        "data_final = data_final.dropna()\n",
        "data_final.isna().sum()"
      ]
    },
    {
      "cell_type": "markdown",
      "metadata": {},
      "source": [
        "Melalui kode tersebut, sudah diperbaharui bahwa Missing Value sudah dihapuskan atau didrop. Mengingat sebelumnya hanya ada 14 value, sehingga jika di drop tidak akan mempengaruhi proses analisis."
      ]
    },
    {
      "cell_type": "code",
      "execution_count": 51,
      "metadata": {
        "colab": {
          "base_uri": "https://localhost:8080/",
          "height": 446
        },
        "id": "OeoYwExyaE79",
        "outputId": "925f2854-a93e-4fa1-fe7d-b239ac0c826e"
      },
      "outputs": [
        {
          "data": {
            "image/png": "[encoded data removed]",
            "text/plain": [
              "<Figure size 640x480 with 1 Axes>"
            ]
          },
          "metadata": {},
          "output_type": "display_data"
        }
      ],
      "source": [
        "# Hitung IQR\n",
        "Q1 = data_final['price'].quantile(0.25)\n",
        "Q3 = data_final['price'].quantile(0.75)\n",
        "IQR = Q3 - Q1\n",
        "\n",
        "# Hapus outlier\n",
        "data_final = data_final[~((data_final['price'] < (Q1 - 1.5 * IQR)) | (data_final['price'] > (Q3 + 1.5 * IQR)))]\n",
        "sns.boxplot(data=data_final, y='price')\n",
        "plt.show()"
      ]
    },
    {
      "cell_type": "code",
      "execution_count": 52,
      "metadata": {
        "colab": {
          "base_uri": "https://localhost:8080/",
          "height": 446
        },
        "id": "SygvJp9IafAr",
        "outputId": "4adedf77-91ee-43a9-8dcc-f6e667e7020e"
      },
      "outputs": [
        {
          "data": {
            "image/png": "[encoded data removed]",
            "text/plain": [
              "<Figure size 640x480 with 1 Axes>"
            ]
          },
          "metadata": {},
          "output_type": "display_data"
        }
      ],
      "source": [
        "# Hitung IQR\n",
        "Q1 = data_final['payment_value'].quantile(0.25)\n",
        "Q3 = data_final['payment_value'].quantile(0.75)\n",
        "IQR = Q3 - Q1\n",
        "\n",
        "# Hapus outlier\n",
        "data_final = data_final[~((data_final['payment_value'] < (Q1 - 1.5 * IQR)) | (data_final['payment_value'] > (Q3 + 1.5 * IQR)))]\n",
        "sns.boxplot(data=data_final, y='payment_value')\n",
        "plt.show()"
      ]
    },
    {
      "cell_type": "markdown",
      "metadata": {},
      "source": [
        "Outlier untuk masing-masing data yakni price dan payment_value juga sudah tertangani dengan baik. Dimana masih ada sedikit outlier, namun hal tersebut dirasa tidak terlalu berpengaruh."
      ]
    },
    {
      "cell_type": "markdown",
      "metadata": {
        "id": "gp-Y6wU38DC1"
      },
      "source": [
        "## Exploratory Data Analysis (EDA)"
      ]
    },
    {
      "cell_type": "code",
      "execution_count": 53,
      "metadata": {
        "colab": {
          "base_uri": "https://localhost:8080/",
          "height": 210
        },
        "id": "-BQx0v9-ciQM",
        "outputId": "69555449-78f9-4ef5-9126-4a14ee764497"
      },
      "outputs": [
        {
          "data": {
            "text/plain": [
              "year\n",
              "2016      34380.31\n",
              "2017    5061514.06\n",
              "2018    6294397.06\n",
              "Name: payment_value, dtype: float64"
            ]
          },
          "execution_count": 53,
          "metadata": {},
          "output_type": "execute_result"
        }
      ],
      "source": [
        "# Mengetahui jumlah pendapatan pada tahun 2016, 2017, dan 2018\n",
        "data_final['order_approved_at'] = pd.to_datetime(data_final['order_approved_at'])\n",
        "data_final['year'] = data_final['order_approved_at'].dt.year\n",
        "data_filtered = data_final[data_final['year'].isin([2016, 2017, 2018])]\n",
        "revenue = data_filtered.groupby('year')['payment_value'].sum()\n",
        "revenue"
      ]
    },
    {
      "cell_type": "code",
      "execution_count": 54,
      "metadata": {},
      "outputs": [
        {
          "name": "stderr",
          "output_type": "stream",
          "text": [
            "C:\\Users\\randi\\AppData\\Local\\Temp\\ipykernel_39820\\382808439.py:2: FutureWarning: \n",
            "\n",
            "Passing `palette` without assigning `hue` is deprecated and will be removed in v0.14.0. Assign the `x` variable to `hue` and set `legend=False` for the same effect.\n",
            "\n",
            "  sns.barplot(x=revenue.index, y=revenue.values, palette='Blues_d')\n"
          ]
        },
        {
          "data": {
            "image/png": "[encoded data removed]",
            "text/plain": [
              "<Figure size 800x600 with 1 Axes>"
            ]
          },
          "metadata": {},
          "output_type": "display_data"
        }
      ],
      "source": [
        "plt.figure(figsize=(8, 6))\n",
        "sns.barplot(x=revenue.index, y=revenue.values, palette='Blues_d') \n",
        "\n",
        "plt.xlabel('Year')\n",
        "plt.ylabel('Total Revenue')\n",
        "plt.title('Total Revenue by Year (2016-2018)')\n",
        "plt.show()"
      ]
    },
    {
      "cell_type": "markdown",
      "metadata": {},
      "source": [
        "Berdasarkan penulisan kode di atas dan visualisasinya, dapat diketahui bahwa tingkat pendapatan terus meningkat tiap tahunnya. Hanya saja terdapat keanehan pada data pendapatan tahun 2016 dimana memiliki selisih yang terlampau sangat jauh dari tahun 2017. Beberapa indikasi/asumsi yang saya dapatkan adalah data penjualan tahun 2016 hanya terlaksana hingga beberapa bulan saja pada tahun tersebut, sehingga perlu diketahui lebih lanjut terkait periode waktu dimana data tersebut tersedia. "
      ]
    },
    {
      "cell_type": "code",
      "execution_count": 55,
      "metadata": {
        "colab": {
          "base_uri": "https://localhost:8080/",
          "height": 210
        },
        "id": "0nJh7B3xfaHy",
        "outputId": "cd611a2e-be3b-496e-e2a3-d847bbfc92d3"
      },
      "outputs": [
        {
          "data": {
            "text/plain": [
              "order_approved_at\n",
              "2016      308\n",
              "2017    46260\n",
              "2018    55563\n",
              "Name: product_id, dtype: int64"
            ]
          },
          "execution_count": 55,
          "metadata": {},
          "output_type": "execute_result"
        }
      ],
      "source": [
        "# Mengetahui jumlah produk yang terjual pada tahun 2016, 2017, dan 2018\n",
        "products_sold_per_year = data_final.groupby(data_final['order_approved_at'].dt.year)['product_id'].count()\n",
        "products_sold_per_year"
      ]
    },
    {
      "cell_type": "code",
      "execution_count": 56,
      "metadata": {},
      "outputs": [
        {
          "name": "stderr",
          "output_type": "stream",
          "text": [
            "C:\\Users\\randi\\AppData\\Local\\Temp\\ipykernel_39820\\3036998019.py:2: FutureWarning: \n",
            "\n",
            "Passing `palette` without assigning `hue` is deprecated and will be removed in v0.14.0. Assign the `x` variable to `hue` and set `legend=False` for the same effect.\n",
            "\n",
            "  sns.barplot(x=products_sold_per_year.index, y=products_sold_per_year.values, palette='Blues_d')\n"
          ]
        },
        {
          "data": {
            "image/png": "[encoded data removed]",
            "text/plain": [
              "<Figure size 800x600 with 1 Axes>"
            ]
          },
          "metadata": {},
          "output_type": "display_data"
        }
      ],
      "source": [
        "plt.figure(figsize=(8, 6))\n",
        "sns.barplot(x=products_sold_per_year.index, y=products_sold_per_year.values, palette='Blues_d') \n",
        "\n",
        "plt.xlabel('Year')\n",
        "plt.ylabel('Total Sold')\n",
        "plt.title('Total Sold by Year (2016-2018)')\n",
        "plt.show()"
      ]
    },
    {
      "cell_type": "markdown",
      "metadata": {},
      "source": [
        "Sama seperti pendapatan, jumlah produk yang terjual juga mengalami peningkatan tiap tahunnya. Namun terdapat keanehan juga pada data tahun 2016."
      ]
    },
    {
      "cell_type": "markdown",
      "metadata": {
        "id": "_49Ge1cJgulm"
      },
      "source": [
        "Berdasarkan hasil pendapatan dan jumlah produk yang terjual tiap tahunnya, tahun 2016 adalah tahun dengan jumlah pendapatan dan penjualan terkecil. Bahkan angka-nya tidak menyentuh nilai 1000. Hal tersebut menjadi sebuah keanehan dan menimbulkan asumsi terkait apakah data yang masuk pada tahun 2016 adalah semua data penjualan sepanjang tahun (Januari - Desember) ataukah hanya beberapa bulan saja. Sehingga akan dilakukan pengecekan terkait bulan apa saja terjadinya proses transaksi pada tiap tahunnya."
      ]
    },
    {
      "cell_type": "code",
      "execution_count": 57,
      "metadata": {
        "colab": {
          "base_uri": "https://localhost:8080/"
        },
        "id": "pJcEmH9rf2g5",
        "outputId": "457a330f-4449-4bae-c953-a079d45e22e7"
      },
      "outputs": [
        {
          "name": "stdout",
          "output_type": "stream",
          "text": [
            "Penjualan pada tahun 2016 terjadi pada bulan:  [10 12]\n",
            "Penjualan pada tahun 2017 terjadi pada bulan:  [ 9  4  2  5 12  8 11  3 10  1  6  7]\n",
            "Penjualan pada tahun 2018 terjadi pada bulan:  [1 8 3 7 2 5 6 4 9]\n"
          ]
        }
      ],
      "source": [
        "# Mengetahui pada bulan apa saja terjadi proses pembelian produk di masing-masing tahun.\n",
        "months_2016 = data_final[data_final['order_approved_at'].dt.year == 2016]['order_approved_at'].dt.month.unique()\n",
        "months_2017 = data_final[data_final['order_approved_at'].dt.year == 2017]['order_approved_at'].dt.month.unique()\n",
        "months_2018 = data_final[data_final['order_approved_at'].dt.year == 2018]['order_approved_at'].dt.month.unique()\n",
        "\n",
        "print(\"Penjualan pada tahun 2016 terjadi pada bulan: \", months_2016)\n",
        "print(\"Penjualan pada tahun 2017 terjadi pada bulan: \", months_2017)\n",
        "print(\"Penjualan pada tahun 2018 terjadi pada bulan: \", months_2018)"
      ]
    },
    {
      "cell_type": "markdown",
      "metadata": {
        "id": "PpkNR9t2hd58"
      },
      "source": [
        "Diketahui bahwa dalam dataset tersebut, transaksi penjualan pada tahun 2016 memang tercatat pada bulan ke-10 dan bulan ke-12. Sementara itu, pada tahun 2018, proses penjualan hanya terjadi sebelum bulan ke-10, sehingga bulan ke-10 hingga ke-12 tidak terdapat data transaksi penjualan. Oleh karena itu, analisis berikutnya akan difokuskan pada tahun 2017 dimana pada tahun tersebut memiliki data penjualan yang cukup lengkap dari bulan ke-1 hingga bulan ke-12. \n",
        "\n",
        "Terdapat beberapa hal menarik yang didapatkan dalam hasil analisis ini, yakni pada tahun 2018 dimana data hanya terkumpul hingga bulan ke-9, namun pendapatan dan jumlah barang yang terjual sudah melampaui pendapatan dan jumlah barang yang terjual pada tahun 2017 yang mana memiliki data yang lebih lengkap."
      ]
    },
    {
      "cell_type": "code",
      "execution_count": 58,
      "metadata": {
        "colab": {
          "base_uri": "https://localhost:8080/",
          "height": 429
        },
        "id": "AklPAPxniK5d",
        "outputId": "c0a8e831-0bb7-4765-b04d-c5cb4ba84091"
      },
      "outputs": [
        {
          "data": {
            "text/plain": [
              "product_category_name_english\n",
              "bed_bath_table           5296\n",
              "furniture_decor          3990\n",
              "sports_leisure           3925\n",
              "health_beauty            3275\n",
              "housewares               2906\n",
              "computers_accessories    2629\n",
              "toys                     2432\n",
              "garden_tools             2237\n",
              "cool_stuff               2116\n",
              "telephony                2108\n",
              "Name: count, dtype: int64"
            ]
          },
          "execution_count": 58,
          "metadata": {},
          "output_type": "execute_result"
        }
      ],
      "source": [
        "# Mengetahui produk yang paling laris pada tahun 2017.\n",
        "top_products_2017 = data_final[data_final['order_approved_at'].dt.year == 2017]['product_category_name_english'].value_counts().head(10)\n",
        "top_products_2017"
      ]
    },
    {
      "cell_type": "markdown",
      "metadata": {
        "id": "_9xrqX3HkN1d"
      },
      "source": [
        "Selama tahun 2017, produk-produk dengan kategori bed_bath_table mencetak penjualan tertinggi, yakni mencapai 5296 unit terjual dari berbagai macam produk yang ada pada kategori tersebut. Adapun kategori furniture_decor juga menjadi kategori produk yang mencetak penjualan tertinggi ke-2 yakni sebesar 3990 unit produk terjual. Hal tersebut dapat disimpulkan, bahwa banyak orang yang lebih berminat untuk membeli perlengkapan rumah tangga pada situs pembelian online atau e-commerce."
      ]
    },
    {
      "cell_type": "code",
      "execution_count": 59,
      "metadata": {
        "colab": {
          "base_uri": "https://localhost:8080/"
        },
        "id": "ALeRpTZyneHS",
        "outputId": "b8b9886c-b7ff-4f5c-a3b9-de59083cd7b8"
      },
      "outputs": [
        {
          "name": "stdout",
          "output_type": "stream",
          "text": [
            "product_category_name_english\n",
            "bed_bath_table     sao paulo\n",
            "furniture_decor    sao paulo\n",
            "Name: customer_city, dtype: object\n"
          ]
        }
      ],
      "source": [
        "# Mengetahui produk terlaris tersebut didominasi oleh kota mana.\n",
        "category_city = data_final[data_final['product_category_name_english'].isin(['bed_bath_table', 'furniture_decor', 'sport_leisure'])].groupby('product_category_name_english')['customer_city'].agg(lambda x: x.value_counts().index[0])\n",
        "print(category_city)"
      ]
    },
    {
      "cell_type": "markdown",
      "metadata": {},
      "source": [
        "Bed, Bath, Table dan Furniture Decor merupakan dua produk yang memiliki jumlah penjualan tertinggi (paling laris) kedua produk tersebut paling laris di pasar kota Sao Paulo."
      ]
    },
    {
      "cell_type": "code",
      "execution_count": 60,
      "metadata": {
        "colab": {
          "base_uri": "https://localhost:8080/",
          "height": 272
        },
        "id": "baGXBhJdkNq-",
        "outputId": "313cbfbf-52bf-4312-f2d7-c624fbbaf393"
      },
      "outputs": [
        {
          "data": {
            "text/plain": [
              "customer_city\n",
              "sao paulo         6782\n",
              "rio de janeiro    3409\n",
              "belo horizonte    1260\n",
              "brasilia           913\n",
              "porto alegre       708\n",
              "Name: count, dtype: int64"
            ]
          },
          "execution_count": 60,
          "metadata": {},
          "output_type": "execute_result"
        }
      ],
      "source": [
        "# Mengetahui persebaran pembelian produk di beberapa kota.\n",
        "customer_city_distribution = data_final[data_final['order_approved_at'].dt.year == 2017]['customer_city'].value_counts()\n",
        "customer_city_distribution.head()"
      ]
    },
    {
      "cell_type": "markdown",
      "metadata": {
        "id": "qIvOQ9wQnPaQ"
      },
      "source": [
        "Pengguna e-commerce atau pelanggan banyak tersebar di kota-kota besar Brazil seperti Sao Paulo dan Rio de Janeiro. Bahkan, kategori produk terlaris pun juga berasal dari Sao Paulo. Selain sebagai salah satu kota besar di Brazil, banyak penduduk Sao Paulo yang melakukan proses pembelian secara daring melalu situs e-commerce. Adapun Masyarakat Sao Paulo banyak membeli peralatan rumah tangga, hal tersebut dapat terlihat bahwa bed_bath_table dan furniture_decor banyak dibeli oleh customer yang berasal dari Sao Paulo."
      ]
    },
    {
      "cell_type": "markdown",
      "metadata": {
        "id": "zsyZjqak8DC2"
      },
      "source": [
        "## Visualization & Explanatory Analysis"
      ]
    },
    {
      "cell_type": "markdown",
      "metadata": {
        "id": "HZxOiQ6n8DC2"
      },
      "source": [
        "### Pertanyaan 1:"
      ]
    },
    {
      "cell_type": "code",
      "execution_count": 61,
      "metadata": {
        "colab": {
          "base_uri": "https://localhost:8080/",
          "height": 564
        },
        "id": "kgATS6eXuOFV",
        "outputId": "9a9e3e40-76bc-43fc-cd2b-24b73a30938b"
      },
      "outputs": [
        {
          "name": "stderr",
          "output_type": "stream",
          "text": [
            "C:\\Users\\randi\\AppData\\Local\\Temp\\ipykernel_39820\\950957329.py:6: FutureWarning: \n",
            "\n",
            "Passing `palette` without assigning `hue` is deprecated and will be removed in v0.14.0. Assign the `y` variable to `hue` and set `legend=False` for the same effect.\n",
            "\n",
            "  sns.countplot(y='customer_city', data=data_final, order=top_10_cities, palette=palette)\n"
          ]
        },
        {
          "data": {
            "image/png": "[encoded data removed]",
            "text/plain": [
              "<Figure size 1200x600 with 1 Axes>"
            ]
          },
          "metadata": {},
          "output_type": "display_data"
        }
      ],
      "source": [
        "top_10_cities = data_final['customer_city'].value_counts().head(10).index\n",
        "\n",
        "palette = sns.cubehelix_palette(light=0.2, dark=1, n_colors=len(top_10_cities), reverse=False)\n",
        "\n",
        "plt.figure(figsize=(12, 6))\n",
        "sns.countplot(y='customer_city', data=data_final, order=top_10_cities, palette=palette)\n",
        "plt.xlabel('Number of Orders') \n",
        "plt.ylabel('City')\n",
        "plt.title('Top 10 Cities with Most Orders')\n",
        "plt.show()\n"
      ]
    },
    {
      "cell_type": "markdown",
      "metadata": {
        "id": "qfrFHVx42uER"
      },
      "source": [
        "Berdasarkan visualisasi yang didapatkan, diketahui bahwa Sao Paulo menjadi kota dengan jumlah pembelian terbanyak. Hal tersebut menjadikan sebuah indikator bahwa banyak warga kota Sao Paulo yang sering memanfaatkan platform e-commerce guna membeli segala macam kebutuhan, khususnya peralatan rumah tangga. Kota Rio de Janeiro dan Belo Horizonte menjadi kota dengan jumlah pembelian terbesar ke-2 dan ke-3. Hal ini menjadi sebuah indikator bahwa proses transaksi e-commerce banyak dilakukan di kota-kota besar yang tersebar di Brazil.\n",
        "\n",
        "Saran : Perusahaan dapat memberikan perhatian khusus kepada kota-kota tersebut, khususnya yang berada pada posisi lima teratas Kota dengan pembelian tertinggi. Beberapa hal yang dapat diberikan sebagai tindak lanjut dari proses pembelian tersebut seperti voucher discount spesial atau dapat menjadikan kelima kota tersebut sebagai kota fokus pengembangan pasar penjualan. Adapun pelayanan lain yang kalanya juga diberikan kepada kota-kota lain guna mengangkat jumlah pembelian yang ada di kota-kota tersebut."
      ]
    },
    {
      "cell_type": "markdown",
      "metadata": {
        "id": "99BHJqYOzme6"
      },
      "source": [
        "### Pertanyaan 2:"
      ]
    },
    {
      "cell_type": "code",
      "execution_count": 62,
      "metadata": {
        "colab": {
          "base_uri": "https://localhost:8080/",
          "height": 564
        },
        "id": "qEgJXYdlKhzp",
        "outputId": "14b184a5-f2f7-44eb-a7aa-57487cd29f1f"
      },
      "outputs": [
        {
          "name": "stderr",
          "output_type": "stream",
          "text": [
            "C:\\Users\\randi\\AppData\\Local\\Temp\\ipykernel_39820\\198934464.py:7: FutureWarning: \n",
            "\n",
            "Passing `palette` without assigning `hue` is deprecated and will be removed in v0.14.0. Assign the `y` variable to `hue` and set `legend=False` for the same effect.\n",
            "\n",
            "  sns.countplot(y='product_category_name_english', data=sao_paulo_data, order=product_counts.head(10).index, palette=palette)\n"
          ]
        },
        {
          "data": {
            "image/png": "[encoded data removed]",
            "text/plain": [
              "<Figure size 1200x600 with 1 Axes>"
            ]
          },
          "metadata": {},
          "output_type": "display_data"
        }
      ],
      "source": [
        "sao_paulo_data = data_final[data_final['customer_city'] == 'sao paulo']\n",
        "product_counts = sao_paulo_data['product_category_name_english'].value_counts()\n",
        "\n",
        "palette = sns.cubehelix_palette(light=0.2, dark=1, n_colors=len(product_counts.head(10)), reverse=False)\n",
        "\n",
        "plt.figure(figsize=(12, 6))\n",
        "sns.countplot(y='product_category_name_english', data=sao_paulo_data, order=product_counts.head(10).index, palette=palette)\n",
        "plt.xlabel('Jumlah Produk Terjual')\n",
        "plt.ylabel('Kategori Produk')\n",
        "plt.title('Top 10 Kategori Produk Terlaris di Sao Paulo')\n",
        "plt.show()"
      ]
    },
    {
      "cell_type": "markdown",
      "metadata": {
        "id": "63Ne289wzv5E"
      },
      "source": [
        "Preferensi pembelian produk di Sao Paulo banyak dilakukan terhadap produk Bed-Bath-Table. Hal tersebut menjadi sebuah alasan juga kenapa produk dengan kategori Bed-Bath-Table menjadi produk dengan kategori pembelian tertinggi, di Sao Paulo sendiri preferensi pembeli terhadap produk kategori tersebut juga lebih tinggi dibandingkan dengan produk yang lain. Berdasarkan Exploratory Data Analysis sebelumnya, didapatkan bahwa Furniture Decore dan Sport Leisure menjadi produk dengan pembelian tertinggi sepanjang tahun 2017. Namun, preferensi pembeli produk dengan kategori tersebut di Sao Paulo cenderung rendah. Setelah Bed-Bath-Table, pemebli di Sao Paulo memiliki preferensi membeli produk yang ada pada kategori Health-Beauty, baru setelah itu Sport Leisure. Bahkan, produk dengan kategori Housware di Sao Paulor memiliki preferensi yang lebih tinggi dibandingkan dengan Furniture Decor. Hal tersebut menjadikan bahwa penjualan Furniture Decor dan Sport Leisure bukanlah produk dengan pembelian tertinggi di Sao Paulo. Mengingat kedua produk tersebut menjadi tiga besar produk paling laris, mungkin ada kota lain diluar Sao Paulo yang menjadi pusat pembelian terbanyak untuk dua produk kategori tersebut."
      ]
    },
    {
      "cell_type": "markdown",
      "metadata": {
        "id": "DgHI7CiU8DC2"
      },
      "source": [
        "### Pertanyaan 3:"
      ]
    },
    {
      "cell_type": "code",
      "execution_count": 63,
      "metadata": {
        "colab": {
          "base_uri": "https://localhost:8080/",
          "height": 465
        },
        "id": "Go0lCsvO8DC2",
        "outputId": "de85bd46-1f75-4e15-980f-e96aa6ba85d4"
      },
      "outputs": [
        {
          "data": {
            "image/png": "[encoded data removed]",
            "text/plain": [
              "<Figure size 1000x500 with 2 Axes>"
            ]
          },
          "metadata": {},
          "output_type": "display_data"
        }
      ],
      "source": [
        "data_2017 = data_final[data_final['order_approved_at'].dt.year == 2017]\n",
        "monthly_orders = data_2017.groupby(data_2017['order_approved_at'].dt.month)['order_id'].count()\n",
        "monthly_revenue = data_2017.groupby(data_2017['order_approved_at'].dt.month)['payment_value'].sum()\n",
        "\n",
        "fig, ax1 = plt.subplots(figsize=(10, 5))\n",
        "\n",
        "ax2 = ax1.twinx()\n",
        "ax1.plot(monthly_orders.index, monthly_orders.values, color='blue')\n",
        "ax2.plot(monthly_revenue.index, monthly_revenue.values, color='green')\n",
        "\n",
        "ax1.set_xlabel('Month')\n",
        "ax1.set_ylabel('Number of Orders', color='blue')\n",
        "ax2.set_ylabel('Revenue', color='green')\n",
        "ax1.set_xticks(range(1, 13))\n",
        "\n",
        "plt.show()"
      ]
    },
    {
      "cell_type": "markdown",
      "metadata": {
        "id": "0qJub7UGp5hq"
      },
      "source": [
        "Berdasarkan visualisasi di atas, banyaknya penjualan dan pendapat sering berjalan secara beriringan. Sehingga jelas disini dapat dilihat bahwa nilai penjualan akan mempengaruhi nilai pendapatannya. Namun ada beberapa fase dimana sebagian besar nilai penjualan lebih tinggi daripada nilai pendapatan. Dapat dilihat bahwa nilai penjualan dan pendapatan terus mengalami peningkatan, dengan penurunan terjadi pada bulan ke-4, ke-6, dan ke-12 dimana penurunan pada bulan ke-12 cenderung signifikan. Hal tersebut malah berbanding terbalik pada bulan ke-11 dimana bulan tersebut memberi informasi bahwa terdapat peningkatan penjualan dan pendapatan secara signifikan.\n",
        "\n",
        "Adanya analisis lebih lanjut pada periode bulan ke-10 hingga bulan ke-12 guna mengetahui fenomena apa yang terjadi sehingga kedua nilai tersebut meningkat secara signifikan dan langsung turun juga secara signifikan. Adanya pola-pola tertentu di masyarakat mungkin menjadi faktor terjadinya peningkatan dan penurunan tersebut."
      ]
    },
    {
      "cell_type": "markdown",
      "metadata": {
        "id": "_WeHlCeX8DC2"
      },
      "source": [
        "## Conclusion"
      ]
    },
    {
      "cell_type": "markdown",
      "metadata": {
        "id": "ZTcyR48Y8DC2"
      },
      "source": [
        "- Pembelian produk sepanjang tahun 2017 banyak terjadi di kota-kota besar yang ada di Brazil. Sao Paulo, Rio de Janeiro, dan Belo Horizonte menjadi kota dengan pembelian produk e-commerce tertinggi sepanjang tahun 2017. Walaupun ketiganya memiliki selisih yang cukup besar terkait angka pembelian tersebut.\n",
        "- Sebagai negara dengan tingkat pembelian terbesar di Brazil, pembeli produk di Sao Paulo banyak berpreferensi terhadap produk peralatan rumah tangga. Hal tersebut terlihat dari pembelian terhadap produk dengan kategori Bed-Bath-Table lebih tinggi dibandingkan dengan produk yang lain. Hal tersebut juga menjadi sebuah indikator mengapa sepanjang tahun 2017, produk dengan kategori Bed-Bath-Table menjadi kategori produk dengan pembelian tertinggi. Namun, preferensi pembeli Sao Paulo banyak juga yang mengarah pada produk kecantikan dibandingkan dengan peralatan olahraga dan furniture lain. Hal tersebut dapat dilihat bahwa produk dengan kategori Health Beauty lebih tinggi kedua setelah Bed-Bath-Table. Padhahal preferensi pembelian di tahun 2017 lebih banyak mengarah pada produk Furniture Decor setelah Bed-Bath-Table.\n",
        "- Tingak pembelian dan pendapatan sepanjang tahun 2017 cenderung mengalami peningkatan setiap bulannya. Namun, ada beberapa penurunan khususnya yang terjadi dari bulan ke-11 hingga ke-12. Adanya indikasi fenomena tertentu yang ada di masyarakat dapat menjadi indikator terjadinya penurunan yang signifikan tersebut. Sehingga perlu dianalisis lebih dalam terkait, tingkat pembelian tersebut, seperti fenomena apa yang sedang terjadi di masyarakat, sehingga pembelian produk mengalami penurunan."
      ]
    }
  ],
  "metadata": {
    "colab": {
      "provenance": []
    },
    "kernelspec": {
      "display_name": "streamlitenv",
      "language": "python",
      "name": "python3"
    },
    "language_info": {
      "codemirror_mode": {
        "name": "ipython",
        "version": 3
      },
      "file_extension": ".py",
      "mimetype": "text/x-python",
      "name": "python",
      "nbconvert_exporter": "python",
      "pygments_lexer": "ipython3",
      "version": "3.11.10"
    },
    "orig_nbformat": 4
  },
  "nbformat": 4,
  "nbformat_minor": 0
}
